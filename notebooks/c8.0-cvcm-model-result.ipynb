{
 "cells": [
  {
   "cell_type": "markdown",
   "id": "a85d8554",
   "metadata": {
    "heading_collapsed": true
   },
   "source": [
    "# 1. As características de um problema não-supervisionado"
   ]
  },
  {
   "cell_type": "markdown",
   "id": "b3023e9c",
   "metadata": {
    "hidden": true
   },
   "source": [
    "O modelo nao-supervisionado funciona se baseando em convergir a partir da similaridade de atributos entre entidades diferentes. Por exemplo, a partir de frutas com atributos semelhantes (tamanho, cor, formato, etc) o não-supervisionado agrupa. Um dos maiores desafios deste tipo de modelo é que não existe resposta errada, todo algoritmo de clusterização retornará um cluster. Outro desafio é que toda a fundamentação de machine learning se baseia no erro e, por isso, a performance dos modelos são medidos mais na prática. \n",
    "\n",
    "Outro ponto importante é que, em geral, clusterização é o meio e não o fim. A ideia é sumarizar os dados por algum motivo. Por exemplo, no caso aqui são os \"Insiders\", que é um grupo reduzido a partir de um grande grupo. "
   ]
  },
  {
   "cell_type": "markdown",
   "id": "10374eb4",
   "metadata": {},
   "source": [
    "# PA 005 - High Value Customer Identification (Insiders)"
   ]
  },
  {
   "cell_type": "markdown",
   "id": "da7bbfd3",
   "metadata": {},
   "source": [
    "## 0.0. Planejamento da Solução (IoT)"
   ]
  },
  {
   "cell_type": "markdown",
   "id": "4250c334",
   "metadata": {
    "heading_collapsed": true
   },
   "source": [
    "### 0.1. Input (Entrada)"
   ]
  },
  {
   "cell_type": "markdown",
   "id": "caffbacd",
   "metadata": {
    "hidden": true
   },
   "source": [
    "1. Problema de Negócio\n",
    "    - Selecionar os clientes mais valiosos para integrar um programa de fidelização\n",
    "    \n",
    "    \n",
    "2. Conjunto de dados\n",
    "    - Vendas de um e-commerce online durante um periodo de um ano."
   ]
  },
  {
   "cell_type": "markdown",
   "id": "8b2af477",
   "metadata": {},
   "source": [
    "### 0.2. Output (Saída)"
   ]
  },
  {
   "cell_type": "markdown",
   "id": "11ef5b79",
   "metadata": {},
   "source": [
    "1. A indicação das pessoas que farão parte do programa de Insiders\n",
    "    - Lista: client_id | is_insider\n",
    "\n",
    "\n",
    "2. Relatório com as respostas das perguntas de negócio\n",
    "    - Quem são as pessoas elegíveis para participar do programa de Insiders ?\n",
    "    - Quantos clientes farão parte do grupo?\n",
    "    - Quais as principais características desses clientes ?\n",
    "    - Qual a porcentagem de contribuição do faturamento, vinda do Insiders ?\n",
    "    - Qual a expectativa de faturamento desse grupo para os próximos meses ?\n",
    "    - Quais as condições para uma pessoa ser elegível ao Insiders ?\n",
    "    - Quais as condições para uma pessoa ser removida do Insiders ?\n",
    "    - Qual a garantia que o programa Insiders é melhor que o restante da base ?\n",
    "    - Quais ações o time de marketing pode realizar para aumentar o faturamento?"
   ]
  },
  {
   "cell_type": "markdown",
   "id": "f6945518",
   "metadata": {
    "heading_collapsed": true
   },
   "source": [
    "### 0.3 Tasks (Tarefas)"
   ]
  },
  {
   "cell_type": "markdown",
   "id": "82a203df",
   "metadata": {
    "hidden": true
   },
   "source": [
    "1. Quem são as pessoas elegíveis para participar do programa de Insiders ?\n",
    "    - O que é ser elegível? O que são clientes de maior \"valor\"?\n",
    "        - Faturamento\n",
    "            - Alto ticket médio\n",
    "            - Alto LTV (Life Time Value)\n",
    "            - Baixa Recência (baixo tempo entre duas compras)\n",
    "            - Alto Basket Size (tamanho da cesta de compras)\n",
    "            - Baixa probabilidade de churn (churn é quando a empresa para de utilizar seu serviço)\n",
    "            - Alta propensão de compra\n",
    "            \n",
    "        - Custo\n",
    "            - Baixa taxa de devolução\n",
    "            \n",
    "        - Experiência de Compra\n",
    "            - Média alta das avaliações\n",
    "            \n",
    "            \n",
    "2. Quantos clientes farão parte do grupo?\n",
    "    - Número total de clientes\n",
    "        - % do grupo Insiders\n",
    "    \n",
    "    \n",
    "3. Quais as principais características desses clientes ?\n",
    "    - Escrever características dos clientes\n",
    "        - Idade\n",
    "        - Localização \n",
    "    \n",
    "    - Características do consumo\n",
    "        - Features da clusterização\n",
    "\n",
    "\n",
    "4. Qual a porcentagem de contribuição do faturamento, vinda do Insiders ?\n",
    "    - Faturamento total do ano\n",
    "    - Faturamento do grupo insiders\n",
    "\n",
    "\n",
    "5. Qual a expectativa de faturamento desse grupo para os próximos meses ?\n",
    "    - LTV do grupo Insiders\n",
    "    - Séries temporais (ARIMA, ARMA, HoltWinter, etc)\n",
    "    \n",
    "\n",
    "6. Quais as condições para uma pessoa ser elegível ao Insiders ?\n",
    "    - Definir a periodicidade (1 mês, 3 meses, etc)\n",
    "    - A pessoa precisa ser similar ou parecido com uma pessoa do grupo\n",
    "\n",
    "\n",
    "7. Quais as condições para uma pessoa ser removida do Insiders ?\n",
    "    - Definir a periodicidade (1 mês, 3 meses, etc)\n",
    "    - A pessoa precisa ser disimilar ou não-parecido com uma pessoa do grupo\n",
    "\n",
    "\n",
    "8. Qual a garantia que o programa Insiders é melhor que o restante da base ?\n",
    "    - Teste A/B\n",
    "    - Teste A/B Bayesiano\n",
    "    - Teste de Hipóteses\n",
    "\n",
    "\n",
    "9. Quais ações o time de marketing pode realizar para aumentar o faturamento?\n",
    "    - Desconto\n",
    "    - Preferência de Compra\n",
    "    - Frete Grátis\n",
    "    - Visita a empresa\n"
   ]
  },
  {
   "cell_type": "markdown",
   "id": "153c5ce5",
   "metadata": {
    "heading_collapsed": true
   },
   "source": [
    "# 0.0 Imports"
   ]
  },
  {
   "cell_type": "code",
   "execution_count": 4,
   "id": "75252592",
   "metadata": {
    "ExecuteTime": {
     "end_time": "2022-08-18T17:38:31.791630Z",
     "start_time": "2022-08-18T17:38:31.730236Z"
    },
    "hidden": true
   },
   "outputs": [
    {
     "ename": "ModuleNotFoundError",
     "evalue": "No module named 'yellowbrick'",
     "output_type": "error",
     "traceback": [
      "\u001b[1;31m---------------------------------------------------------------------------\u001b[0m",
      "\u001b[1;31mModuleNotFoundError\u001b[0m                       Traceback (most recent call last)",
      "Input \u001b[1;32mIn [4]\u001b[0m, in \u001b[0;36m<cell line: 10>\u001b[1;34m()\u001b[0m\n\u001b[0;32m      8\u001b[0m \u001b[38;5;28;01mfrom\u001b[39;00m \u001b[38;5;21;01msklearn\u001b[39;00m \u001b[38;5;28;01mimport\u001b[39;00m metrics \u001b[38;5;28;01mas\u001b[39;00m m\n\u001b[0;32m      9\u001b[0m \u001b[38;5;28;01mfrom\u001b[39;00m \u001b[38;5;21;01mplotly\u001b[39;00m \u001b[38;5;28;01mimport\u001b[39;00m express \u001b[38;5;28;01mas\u001b[39;00m px\n\u001b[1;32m---> 10\u001b[0m \u001b[38;5;28;01mfrom\u001b[39;00m \u001b[38;5;21;01myellowbrick\u001b[39;00m\u001b[38;5;21;01m.\u001b[39;00m\u001b[38;5;21;01mcluster\u001b[39;00m \u001b[38;5;28;01mimport\u001b[39;00m KElbowVisualizer, SilhouetteVisualizer\n\u001b[0;32m     11\u001b[0m \u001b[38;5;28;01mimport\u001b[39;00m \u001b[38;5;21;01mumap\u001b[39;00m\u001b[38;5;21;01m.\u001b[39;00m\u001b[38;5;21;01mumap_\u001b[39;00m \u001b[38;5;28;01mas\u001b[39;00m \u001b[38;5;21;01mumap\u001b[39;00m\n\u001b[0;32m     13\u001b[0m \u001b[38;5;28;01mfrom\u001b[39;00m \u001b[38;5;21;01mpandas_profiling\u001b[39;00m \u001b[38;5;28;01mimport\u001b[39;00m ProfileReport\n",
      "\u001b[1;31mModuleNotFoundError\u001b[0m: No module named 'yellowbrick'"
     ]
    }
   ],
   "source": [
    "import pandas  as pd\n",
    "import numpy   as np\n",
    "import seaborn as sns\n",
    "\n",
    "from matplotlib      import pyplot as plt\n",
    "from IPython.display import HTML\n",
    "from sklearn import cluster as c\n",
    "from sklearn import metrics as m\n",
    "from plotly import express as px\n",
    "from yellowbrick.cluster import KElbowVisualizer, SilhouetteVisualizer\n",
    "import umap.umap_ as umap\n",
    "\n",
    "from pandas_profiling import ProfileReport\n",
    "\n",
    "from sklearn import preprocessing as pp\n",
    "\n",
    "from sklearn import decomposition as dd\n",
    "from sklearn.manifold import TSNE\n",
    "from sklearn import ensemble as en"
   ]
  },
  {
   "cell_type": "markdown",
   "id": "c72c9874",
   "metadata": {
    "heading_collapsed": true,
    "hidden": true
   },
   "source": [
    "## 0.1 Helper Functions"
   ]
  },
  {
   "cell_type": "code",
   "execution_count": null,
   "id": "22b90c4e",
   "metadata": {
    "ExecuteTime": {
     "end_time": "2022-08-18T17:38:31.794925Z",
     "start_time": "2022-08-18T17:38:31.794925Z"
    },
    "hidden": true
   },
   "outputs": [],
   "source": [
    "def jupyter_settings():\n",
    "    %matplotlib inline\n",
    "    %pylab inline\n",
    "    \n",
    "    plt.style.use('ggplot')\n",
    "    plt.rcParams['figure.figsize'] = [24, 9]\n",
    "    plt.rcParams['font.size'] = 24\n",
    "    \n",
    "    display(HTML('<style>.container {width: 100% !important;}</style>'))\n",
    "    pd.options.display.max_columns = None\n",
    "    pd.options.display.max_rows = None\n",
    "    pd.set_option('display.expand_frame_repr', False)\n",
    "    \n",
    "    sns.set()\n",
    "    \n",
    "jupyter_settings()"
   ]
  },
  {
   "cell_type": "markdown",
   "id": "b0b29061",
   "metadata": {
    "heading_collapsed": true,
    "hidden": true
   },
   "source": [
    "## 0.2 Load Dataset"
   ]
  },
  {
   "cell_type": "code",
   "execution_count": null,
   "id": "7ba1097a",
   "metadata": {
    "ExecuteTime": {
     "end_time": "2022-08-18T17:38:31.796906Z",
     "start_time": "2022-08-18T17:38:31.796906Z"
    },
    "hidden": true
   },
   "outputs": [],
   "source": [
    "# read data\n",
    "df_raw = pd.read_csv('../data/Ecommerce.csv', encoding='unicode_escape')\n",
    "\n",
    "# drop exatra column\n",
    "df_raw = df_raw.drop('Unnamed: 8', axis=1)"
   ]
  },
  {
   "cell_type": "code",
   "execution_count": null,
   "id": "2d9b820c",
   "metadata": {
    "ExecuteTime": {
     "end_time": "2022-08-18T17:38:31.799179Z",
     "start_time": "2022-08-18T17:38:31.799179Z"
    },
    "hidden": true
   },
   "outputs": [],
   "source": [
    "df_raw.head()"
   ]
  },
  {
   "cell_type": "markdown",
   "id": "b7cddf95",
   "metadata": {
    "heading_collapsed": true
   },
   "source": [
    "# 1.0 Descrição dos dados"
   ]
  },
  {
   "cell_type": "markdown",
   "id": "d026ca0d",
   "metadata": {
    "hidden": true
   },
   "source": [
    "## 1.1 Rename Columns"
   ]
  },
  {
   "cell_type": "code",
   "execution_count": null,
   "id": "f2ec3f45",
   "metadata": {
    "ExecuteTime": {
     "end_time": "2022-08-18T17:38:31.800173Z",
     "start_time": "2022-08-18T17:38:31.800173Z"
    },
    "hidden": true
   },
   "outputs": [],
   "source": [
    "df1 = df_raw.copy()"
   ]
  },
  {
   "cell_type": "code",
   "execution_count": null,
   "id": "376aff58",
   "metadata": {
    "ExecuteTime": {
     "end_time": "2022-08-18T17:38:31.801094Z",
     "start_time": "2022-08-18T17:38:31.801094Z"
    },
    "hidden": true
   },
   "outputs": [],
   "source": [
    "df1.columns"
   ]
  },
  {
   "cell_type": "code",
   "execution_count": null,
   "id": "8177c921",
   "metadata": {
    "ExecuteTime": {
     "end_time": "2022-08-18T17:38:31.802263Z",
     "start_time": "2022-08-18T17:38:31.802044Z"
    },
    "hidden": true
   },
   "outputs": [],
   "source": [
    "cols_new = ['invoice_no', 'stock_code', 'description', 'quantity', 'invoice_date', 'unit_price', 'customer_id', 'country']\n",
    "df1.columns = cols_new"
   ]
  },
  {
   "cell_type": "code",
   "execution_count": null,
   "id": "aef745a0",
   "metadata": {
    "ExecuteTime": {
     "end_time": "2022-08-18T17:38:31.802893Z",
     "start_time": "2022-08-18T17:38:31.802893Z"
    },
    "hidden": true
   },
   "outputs": [],
   "source": [
    "df1.sample()"
   ]
  },
  {
   "cell_type": "markdown",
   "id": "d4942ed1",
   "metadata": {
    "hidden": true
   },
   "source": [
    "## 1.2 Data Dimensions"
   ]
  },
  {
   "cell_type": "code",
   "execution_count": null,
   "id": "18506b1b",
   "metadata": {
    "ExecuteTime": {
     "end_time": "2022-08-18T17:38:31.803907Z",
     "start_time": "2022-08-18T17:38:31.803907Z"
    },
    "hidden": true
   },
   "outputs": [],
   "source": [
    "print('Number of rows: {}'.format(df1.shape[0]))\n",
    "print('Number of columns: {}'. format(df1.shape[1]))"
   ]
  },
  {
   "cell_type": "markdown",
   "id": "c2117d2d",
   "metadata": {
    "hidden": true
   },
   "source": [
    "## 1.3 Data Types"
   ]
  },
  {
   "cell_type": "code",
   "execution_count": null,
   "id": "48a06fc3",
   "metadata": {
    "ExecuteTime": {
     "end_time": "2022-08-18T17:38:31.805237Z",
     "start_time": "2022-08-18T17:38:31.805237Z"
    },
    "hidden": true
   },
   "outputs": [],
   "source": [
    "df1.dtypes"
   ]
  },
  {
   "cell_type": "markdown",
   "id": "3e05e313",
   "metadata": {
    "hidden": true
   },
   "source": [
    "## 1.4 Check NA"
   ]
  },
  {
   "cell_type": "code",
   "execution_count": null,
   "id": "893c22de",
   "metadata": {
    "ExecuteTime": {
     "end_time": "2022-08-18T17:38:31.806532Z",
     "start_time": "2022-08-18T17:38:31.806532Z"
    },
    "hidden": true
   },
   "outputs": [],
   "source": [
    "df1.isna().sum()"
   ]
  },
  {
   "cell_type": "markdown",
   "id": "510c0ee9",
   "metadata": {
    "hidden": true
   },
   "source": [
    "O fato de ter 135k customer_id sem identificação é um problema, uma vez que o objetivo é construir clusters identificando os clientes. A princípio, serão removidos 135k de linhas, mas é importante entender o que houve e o motivo de estarem assim."
   ]
  },
  {
   "cell_type": "markdown",
   "id": "3dbb6798",
   "metadata": {
    "hidden": true
   },
   "source": [
    "## 1.5 Replace NA"
   ]
  },
  {
   "cell_type": "code",
   "execution_count": null,
   "id": "b1ff4096",
   "metadata": {
    "ExecuteTime": {
     "end_time": "2022-08-18T17:38:31.808007Z",
     "start_time": "2022-08-18T17:38:31.808007Z"
    },
    "hidden": true
   },
   "outputs": [],
   "source": [
    "df_missing = df1.loc[df1['customer_id'].isna(),:]\n",
    "df_not_missing = df1.loc[~df1['customer_id'].isna(),:]"
   ]
  },
  {
   "cell_type": "code",
   "execution_count": null,
   "id": "8a5a49b7",
   "metadata": {
    "ExecuteTime": {
     "end_time": "2022-08-18T17:38:31.809183Z",
     "start_time": "2022-08-18T17:38:31.809183Z"
    },
    "hidden": true
   },
   "outputs": [],
   "source": [
    "# create reference - Adicionando um valor para customer_id que não tenha na base. Como o máx é 19000, o primeiro id missing que aparecer será o 19001 e assim por diante.\n",
    "df_backup = pd.DataFrame(df_missing['invoice_no'].drop_duplicates())\n",
    "df_backup['customer_id'] = np.arange(19000, 19000+len(df_backup),1)\n",
    "\n",
    "# merge original with reference dataframe\n",
    "df1 = pd.merge(df1, df_backup, on='invoice_no', how='left')\n",
    "\n",
    "# coalesce\n",
    "df1['customer_id'] = df1['customer_id_x'].combine_first(df1['customer_id_y'])\n",
    "\n",
    "# drop extra columns\n",
    "df1 = df1.drop(columns=['customer_id_x', 'customer_id_y'])"
   ]
  },
  {
   "cell_type": "code",
   "execution_count": null,
   "id": "3c22ebfe",
   "metadata": {
    "ExecuteTime": {
     "end_time": "2022-08-18T17:38:31.810871Z",
     "start_time": "2022-08-18T17:38:31.810871Z"
    },
    "hidden": true
   },
   "outputs": [],
   "source": [
    "df1.isna().sum()"
   ]
  },
  {
   "cell_type": "markdown",
   "id": "233856ca",
   "metadata": {
    "hidden": true
   },
   "source": [
    "## 1.6 Change Dtypes"
   ]
  },
  {
   "cell_type": "code",
   "execution_count": null,
   "id": "77a47410",
   "metadata": {
    "ExecuteTime": {
     "end_time": "2022-08-18T17:38:31.811774Z",
     "start_time": "2022-08-18T17:38:31.811774Z"
    },
    "hidden": true
   },
   "outputs": [],
   "source": [
    "df1.dtypes"
   ]
  },
  {
   "cell_type": "code",
   "execution_count": null,
   "id": "d4ae0489",
   "metadata": {
    "ExecuteTime": {
     "end_time": "2022-08-18T17:38:31.813258Z",
     "start_time": "2022-08-18T17:38:31.813258Z"
    },
    "hidden": true
   },
   "outputs": [],
   "source": [
    "# invoice_date\n",
    "df1['invoice_date'] = pd.to_datetime(df1['invoice_date'], format='%d-%b-%y')\n",
    "\n",
    "# customer_id\n",
    "df1['customer_id'] = df1['customer_id'].astype('int64')"
   ]
  },
  {
   "cell_type": "code",
   "execution_count": null,
   "id": "8a7875f5",
   "metadata": {
    "ExecuteTime": {
     "end_time": "2022-08-18T17:38:31.814449Z",
     "start_time": "2022-08-18T17:38:31.814449Z"
    },
    "hidden": true
   },
   "outputs": [],
   "source": [
    "df1.sample()"
   ]
  },
  {
   "cell_type": "code",
   "execution_count": null,
   "id": "d086f8ab",
   "metadata": {
    "ExecuteTime": {
     "end_time": "2022-08-18T17:38:31.816178Z",
     "start_time": "2022-08-18T17:38:31.816178Z"
    },
    "hidden": true
   },
   "outputs": [],
   "source": [
    "df1.dtypes"
   ]
  },
  {
   "cell_type": "markdown",
   "id": "1dbb439e",
   "metadata": {
    "heading_collapsed": true,
    "hidden": true
   },
   "source": [
    "## 1.7 Descriptive Statistics"
   ]
  },
  {
   "cell_type": "code",
   "execution_count": null,
   "id": "7c23c57b",
   "metadata": {
    "ExecuteTime": {
     "end_time": "2022-08-18T17:38:31.816990Z",
     "start_time": "2022-08-18T17:38:31.816990Z"
    },
    "hidden": true
   },
   "outputs": [],
   "source": [
    "num_attributes = df1.select_dtypes(include=['int64', 'float64'])\n",
    "cat_attributes = df1.select_dtypes(exclude=['int64', 'float64', 'datetime64[ns]'])"
   ]
  },
  {
   "cell_type": "markdown",
   "id": "145cdd3d",
   "metadata": {
    "hidden": true
   },
   "source": [
    "### 1.7.1 Numerical Attributes"
   ]
  },
  {
   "cell_type": "code",
   "execution_count": null,
   "id": "97a755ef",
   "metadata": {
    "ExecuteTime": {
     "end_time": "2022-08-18T17:38:31.818130Z",
     "start_time": "2022-08-18T17:38:31.818130Z"
    },
    "hidden": true
   },
   "outputs": [],
   "source": [
    "d = num_attributes.describe()\n",
    "d1 = pd.DataFrame(num_attributes.apply(lambda x: x.skew())).T\n",
    "d2 = pd.DataFrame(num_attributes.apply(lambda x: x.kurtosis())).T\n",
    "\n",
    "# concatenate\n",
    "df_num = pd.concat([d,d1,d2]).T.reset_index()\n",
    "df_num.columns = ['attributes', 'count', 'mean', 'std','min','25%','50%', '75%', 'max', 'skew', 'kurtosis']\n",
    "df_num"
   ]
  },
  {
   "cell_type": "markdown",
   "id": "05006a23",
   "metadata": {
    "hidden": true
   },
   "source": [
    "#### 1.7.1.1 Numerical Attributes - Investigating"
   ]
  },
  {
   "cell_type": "markdown",
   "id": "001ceac0",
   "metadata": {
    "hidden": true
   },
   "source": [
    "1. Quantity negativa (pode ser devolução)\n",
    "2. Preço unitário igual a zero (pode ser promoção?)"
   ]
  },
  {
   "cell_type": "markdown",
   "id": "33f90806",
   "metadata": {
    "heading_collapsed": true,
    "hidden": true
   },
   "source": [
    "### 1.7.2 Categorical Attributes"
   ]
  },
  {
   "cell_type": "code",
   "execution_count": null,
   "id": "952e9790",
   "metadata": {
    "ExecuteTime": {
     "end_time": "2022-08-18T17:38:31.819626Z",
     "start_time": "2022-08-18T17:38:31.819376Z"
    },
    "hidden": true
   },
   "outputs": [],
   "source": [
    "cat_attributes.head()"
   ]
  },
  {
   "cell_type": "code",
   "execution_count": null,
   "id": "ff98ae7b",
   "metadata": {
    "ExecuteTime": {
     "end_time": "2022-08-18T17:38:31.821392Z",
     "start_time": "2022-08-18T17:38:31.821392Z"
    },
    "hidden": true
   },
   "outputs": [],
   "source": [
    "# invoice number\n",
    "print(f\"Total de parâmetros com caracter diferente de número: {len(cat_attributes.loc[cat_attributes['invoice_no'].apply(lambda x: bool(re.search('[^0-9]+', x))), 'invoice_no'].drop_duplicates() ) }\")\n",
    "\n",
    "df_letter_invoices = df1.loc[df1['invoice_no'].apply(lambda x: bool(re.search('[^0-9]+', x))), :]\n",
    "print(f'Total de números negativos: {len(df_letter_invoices[df_letter_invoices[\"quantity\"] > 0])}')"
   ]
  },
  {
   "cell_type": "markdown",
   "id": "c1782e5e",
   "metadata": {
    "hidden": true
   },
   "source": [
    "Existe um total de 3654 invoice_no que estão com algum tipo de letra no nome, o que impede de fazer a conversão para número. Além disso, todos as quantidades estão negativas nesta situação, o que é estranho, uma vez que os valores de compras precisam ser positivos. Estes valores negativos podem ser considerados devoluções de produtos."
   ]
  },
  {
   "cell_type": "code",
   "execution_count": null,
   "id": "a858edaf",
   "metadata": {
    "ExecuteTime": {
     "end_time": "2022-08-18T17:38:31.822667Z",
     "start_time": "2022-08-18T17:38:31.822667Z"
    },
    "hidden": true
   },
   "outputs": [],
   "source": [
    "# stock_code\n",
    "print(len(cat_attributes.loc[cat_attributes['stock_code'].apply(lambda x: bool(re.search('[^0-9]+', x))), 'stock_code'] ))\n",
    "\n",
    "# total com todos os parametros sendo string\n",
    "df1.loc[df1['stock_code'].apply(lambda x: bool(re.search('^[a-zA-Z]+$', x))), 'stock_code'].unique()"
   ]
  },
  {
   "cell_type": "markdown",
   "id": "fa422fb7",
   "metadata": {
    "hidden": true
   },
   "source": [
    "Existem variáveis que podem ser sujeiras, não indicam nada para gente. "
   ]
  },
  {
   "cell_type": "code",
   "execution_count": null,
   "id": "50a456ea",
   "metadata": {
    "ExecuteTime": {
     "end_time": "2022-08-18T17:38:31.823849Z",
     "start_time": "2022-08-18T17:38:31.823849Z"
    },
    "hidden": true
   },
   "outputs": [],
   "source": [
    "# description\n",
    "\n",
    "# Delete description"
   ]
  },
  {
   "cell_type": "code",
   "execution_count": null,
   "id": "bd9185b9",
   "metadata": {
    "ExecuteTime": {
     "end_time": "2022-08-18T17:38:31.826931Z",
     "start_time": "2022-08-18T17:38:31.826931Z"
    },
    "hidden": true
   },
   "outputs": [],
   "source": [
    "# Country\n",
    "\n",
    "# total de paises\n",
    "print(f\"Total de países: {(len(df1['country'].unique()))}\")\n",
    "\n",
    "#representatividade dos paises nas compras por pais\n",
    "print(\"Lista dos Países: \")\n",
    "df1['country'].value_counts(normalize=True)"
   ]
  },
  {
   "cell_type": "markdown",
   "id": "ce592333",
   "metadata": {
    "heading_collapsed": true
   },
   "source": [
    "# 2.0 Data Filtering"
   ]
  },
  {
   "cell_type": "code",
   "execution_count": null,
   "id": "b63c66f5",
   "metadata": {
    "ExecuteTime": {
     "end_time": "2022-08-18T17:38:31.827930Z",
     "start_time": "2022-08-18T17:38:31.827930Z"
    },
    "hidden": true
   },
   "outputs": [],
   "source": [
    "df2 = df1.copy()"
   ]
  },
  {
   "cell_type": "code",
   "execution_count": null,
   "id": "10b5d657",
   "metadata": {
    "ExecuteTime": {
     "end_time": "2022-08-18T17:38:31.829027Z",
     "start_time": "2022-08-18T17:38:31.829027Z"
    },
    "hidden": true
   },
   "outputs": [],
   "source": [
    "# unit price > 0.01\n",
    "df2 = df2.loc[df2['unit_price'] >= 0.04, :]\n",
    "\n",
    "# stock code != [POST, D, M, DOT, CRUK]\n",
    "df2 = df2[~df2['stock_code'].isin(['POST', 'D', 'DOT', 'M', 'S', 'AMAZONFEE', 'm', 'DCGSSBOY',\n",
    "       'DCGSSGIRL', 'PADS', 'B', 'CRUK'])]\n",
    "\n",
    "# description\n",
    "df2 = df2.drop(columns='description', axis=1)\n",
    "\n",
    "# map\n",
    "df2 = df2[~df2['country'].isin(['European Community', 'Unspecified'])]\n",
    "\n",
    "# bad users - Pessoas com comportamentos estranho na analise exploratória de dados\n",
    "df2 = df2[~df2['customer_id'].isin([16446 ])]\n",
    "\n",
    "## quantity - Negative number means product returns\n",
    "df2_returns = df2.loc[df2['quantity'] < 0, :]\n",
    "df2_purchase = df2.loc[df2['quantity'] >= 0, :]"
   ]
  },
  {
   "cell_type": "markdown",
   "id": "68caaa97",
   "metadata": {
    "heading_collapsed": true
   },
   "source": [
    "# 3.0 Feature Engineering"
   ]
  },
  {
   "cell_type": "code",
   "execution_count": null,
   "id": "308ab792",
   "metadata": {
    "ExecuteTime": {
     "end_time": "2022-08-18T17:38:31.830522Z",
     "start_time": "2022-08-18T17:38:31.830522Z"
    },
    "hidden": true
   },
   "outputs": [],
   "source": [
    "# Feature Ideas:\n",
    "## Moving Average - 7d, 14d, 30d\n",
    "## Quantidade de compras por mês, antes do dia 15 e depois do dia 15\n",
    "## Average Financial\n",
    "\n",
    "## "
   ]
  },
  {
   "cell_type": "code",
   "execution_count": null,
   "id": "8f1c428a",
   "metadata": {
    "ExecuteTime": {
     "end_time": "2022-08-18T17:38:31.831400Z",
     "start_time": "2022-08-18T17:38:31.831400Z"
    },
    "hidden": true
   },
   "outputs": [],
   "source": [
    "df3 = df2.copy()"
   ]
  },
  {
   "cell_type": "markdown",
   "id": "4ba5daf6",
   "metadata": {
    "hidden": true
   },
   "source": [
    "## 3.1 Feature Creation"
   ]
  },
  {
   "cell_type": "code",
   "execution_count": null,
   "id": "7f999b16",
   "metadata": {
    "ExecuteTime": {
     "end_time": "2022-08-18T17:38:31.832531Z",
     "start_time": "2022-08-18T17:38:31.832531Z"
    },
    "hidden": true
   },
   "outputs": [],
   "source": [
    "df3.head()"
   ]
  },
  {
   "cell_type": "markdown",
   "id": "9ea381c5",
   "metadata": {
    "hidden": true
   },
   "source": [
    "Será criado uma tabela de referência, com a menor granularidade possível"
   ]
  },
  {
   "cell_type": "code",
   "execution_count": null,
   "id": "6d761c1f",
   "metadata": {
    "ExecuteTime": {
     "end_time": "2022-08-18T17:38:31.833479Z",
     "start_time": "2022-08-18T17:38:31.833479Z"
    },
    "hidden": true
   },
   "outputs": [],
   "source": [
    "df_ref = df3.drop(['invoice_no', 'stock_code', \n",
    "                   'quantity', 'invoice_date', 'unit_price', \n",
    "                   'country'], axis = 1).drop_duplicates(ignore_index=True)\n",
    "df_ref.head()"
   ]
  },
  {
   "cell_type": "markdown",
   "id": "c30c889e",
   "metadata": {
    "hidden": true
   },
   "source": [
    "### 3.1.1 Gross Revenue"
   ]
  },
  {
   "cell_type": "code",
   "execution_count": 5,
   "id": "1e16ba28",
   "metadata": {
    "ExecuteTime": {
     "end_time": "2022-08-18T17:38:31.869186Z",
     "start_time": "2022-08-18T17:38:31.835584Z"
    },
    "hidden": true
   },
   "outputs": [
    {
     "ename": "NameError",
     "evalue": "name 'df2_purchase' is not defined",
     "output_type": "error",
     "traceback": [
      "\u001b[1;31m---------------------------------------------------------------------------\u001b[0m",
      "\u001b[1;31mNameError\u001b[0m                                 Traceback (most recent call last)",
      "Input \u001b[1;32mIn [5]\u001b[0m, in \u001b[0;36m<cell line: 2>\u001b[1;34m()\u001b[0m\n\u001b[0;32m      1\u001b[0m \u001b[38;5;66;03m# Gross Revenue (Faturamento) = quantity * price\u001b[39;00m\n\u001b[1;32m----> 2\u001b[0m df2_purchase\u001b[38;5;241m.\u001b[39mloc[:, \u001b[38;5;124m'\u001b[39m\u001b[38;5;124mgross_revenue\u001b[39m\u001b[38;5;124m'\u001b[39m] \u001b[38;5;241m=\u001b[39m \u001b[43mdf2_purchase\u001b[49m\u001b[38;5;241m.\u001b[39mloc[:,\u001b[38;5;124m'\u001b[39m\u001b[38;5;124mquantity\u001b[39m\u001b[38;5;124m'\u001b[39m]\u001b[38;5;241m*\u001b[39mdf2_purchase\u001b[38;5;241m.\u001b[39mloc[:,\u001b[38;5;124m'\u001b[39m\u001b[38;5;124munit_price\u001b[39m\u001b[38;5;124m'\u001b[39m]\n\u001b[0;32m      4\u001b[0m \u001b[38;5;66;03m# Monetary (Quanto esta pessoa gastou na loja)\u001b[39;00m\n\u001b[0;32m      5\u001b[0m df_monetary \u001b[38;5;241m=\u001b[39m df2_purchase\u001b[38;5;241m.\u001b[39mloc[:,[\u001b[38;5;124m'\u001b[39m\u001b[38;5;124mcustomer_id\u001b[39m\u001b[38;5;124m'\u001b[39m, \u001b[38;5;124m'\u001b[39m\u001b[38;5;124mgross_revenue\u001b[39m\u001b[38;5;124m'\u001b[39m]]\u001b[38;5;241m.\u001b[39mgroupby(\u001b[38;5;124m'\u001b[39m\u001b[38;5;124mcustomer_id\u001b[39m\u001b[38;5;124m'\u001b[39m)\u001b[38;5;241m.\u001b[39msum()\u001b[38;5;241m.\u001b[39mreset_index()\n",
      "\u001b[1;31mNameError\u001b[0m: name 'df2_purchase' is not defined"
     ]
    }
   ],
   "source": [
    "# Gross Revenue (Faturamento) = quantity * price\n",
    "df2_purchase.loc[:, 'gross_revenue'] = df2_purchase.loc[:,'quantity']*df2_purchase.loc[:,'unit_price']\n",
    "\n",
    "# Monetary (Quanto esta pessoa gastou na loja)\n",
    "df_monetary = df2_purchase.loc[:,['customer_id', 'gross_revenue']].groupby('customer_id').sum().reset_index()\n",
    "\n",
    "# Adicionando no datafram de referencia\n",
    "df_ref = pd.merge(df_ref, df_monetary, on='customer_id', how='left')\n",
    "df_ref.isna().sum()"
   ]
  },
  {
   "cell_type": "markdown",
   "id": "9f5062bf",
   "metadata": {
    "hidden": true
   },
   "source": [
    "### 3.1.2 Recency - Day from last purchase"
   ]
  },
  {
   "cell_type": "code",
   "execution_count": null,
   "id": "e943aa8f",
   "metadata": {
    "ExecuteTime": {
     "end_time": "2022-08-18T17:38:31.871627Z",
     "start_time": "2022-08-18T17:38:31.871627Z"
    },
    "hidden": true
   },
   "outputs": [],
   "source": [
    "# Recency - Last Day Purchase\n",
    "# Como o dataset é antigo, será escolhido a data como a última data de compra do dataset. Esta data servirá de referencia, uma vez que o recorte dos dados é de dois anos atrás.\n",
    "# em um projeto real, é selecionado o datetime.today(), selecionando assim a data de HOJE.\n",
    "df_recency = df2_purchase[['customer_id', 'invoice_date']].groupby('customer_id').max().reset_index()\n",
    "df_recency['recency_days'] = (df2_purchase['invoice_date'].max()-df_recency['invoice_date']).dt.days\n",
    "df_recency = df_recency[['customer_id', 'recency_days']].copy()\n",
    "df_ref = pd.merge(df_ref, df_recency, how='left', on='customer_id')\n",
    "df_ref.isna().sum()"
   ]
  },
  {
   "cell_type": "markdown",
   "id": "b3632d81",
   "metadata": {
    "hidden": true
   },
   "source": [
    "### 3.1.3 Quantity of purchased"
   ]
  },
  {
   "cell_type": "code",
   "execution_count": null,
   "id": "f0a3110e",
   "metadata": {
    "ExecuteTime": {
     "end_time": "2022-08-18T17:38:31.872639Z",
     "start_time": "2022-08-18T17:38:31.872639Z"
    },
    "hidden": true
   },
   "outputs": [],
   "source": [
    "# Numero de produtos\n",
    "df_frequency = df2_purchase[['customer_id', 'invoice_no']].groupby('customer_id').count().reset_index().rename(columns={'invoice_no': 'qtde_invoices'})\n",
    "df_ref = pd.merge(df_ref, df_frequency, how='left', on='customer_id')\n",
    "df_ref.isna().sum()"
   ]
  },
  {
   "cell_type": "markdown",
   "id": "7e250c34",
   "metadata": {
    "hidden": true
   },
   "source": [
    "### 3.1.4 Quantity of items purchased"
   ]
  },
  {
   "cell_type": "code",
   "execution_count": null,
   "id": "8e0d8293",
   "metadata": {
    "ExecuteTime": {
     "end_time": "2022-08-18T17:38:31.873619Z",
     "start_time": "2022-08-18T17:38:31.873619Z"
    },
    "hidden": true
   },
   "outputs": [],
   "source": [
    "# Numero de produtos\n",
    "df_frequency = df2_purchase[['customer_id', 'quantity']].groupby('customer_id').sum().reset_index().rename(columns={'quantity': 'qtde_itens'})\n",
    "df_ref = pd.merge(df_ref, df_frequency, how='left', on='customer_id')\n",
    "df_ref.isna().sum()"
   ]
  },
  {
   "cell_type": "markdown",
   "id": "25e065ac",
   "metadata": {
    "hidden": true
   },
   "source": [
    "### 3.1.5 Quantity of products purchased"
   ]
  },
  {
   "cell_type": "code",
   "execution_count": null,
   "id": "8ad8f4f8",
   "metadata": {
    "ExecuteTime": {
     "end_time": "2022-08-18T17:38:31.874628Z",
     "start_time": "2022-08-18T17:38:31.874628Z"
    },
    "hidden": true
   },
   "outputs": [],
   "source": [
    "  # Numero de produtos\n",
    "df_frequency = df2_purchase[['customer_id', 'stock_code']].groupby('customer_id').count().reset_index().rename(columns={'stock_code': 'qtde_produtos'})\n",
    "df_ref = pd.merge(df_ref, df_frequency, how='left', on='customer_id')\n",
    "df_ref.isna().sum()"
   ]
  },
  {
   "cell_type": "markdown",
   "id": "cac44090",
   "metadata": {
    "hidden": true
   },
   "source": [
    "### 3.1.5 Average Ticket Value"
   ]
  },
  {
   "cell_type": "code",
   "execution_count": null,
   "id": "cf7ba84e",
   "metadata": {
    "ExecuteTime": {
     "end_time": "2022-08-18T17:38:31.875768Z",
     "start_time": "2022-08-18T17:38:31.875768Z"
    },
    "hidden": true
   },
   "outputs": [],
   "source": [
    "# Avg Ticket\n",
    "df_avg_ticket = df2_purchase[['customer_id', 'gross_revenue']].groupby('customer_id').mean().reset_index().rename(columns={'gross_revenue': 'avg_ticket'})\n",
    "df_avg_ticket['avg_ticket'] = np.round(df_avg_ticket['avg_ticket'],2)\n",
    "df_ref = pd.merge(df_ref, df_avg_ticket, how='left', on='customer_id')\n",
    "df_ref.isna().sum()"
   ]
  },
  {
   "cell_type": "markdown",
   "id": "8182ffb2",
   "metadata": {
    "hidden": true
   },
   "source": [
    "### 3.1.6 Average Recency Days"
   ]
  },
  {
   "cell_type": "code",
   "execution_count": null,
   "id": "cd8c0bdd",
   "metadata": {
    "ExecuteTime": {
     "end_time": "2022-08-18T17:38:31.877000Z",
     "start_time": "2022-08-18T17:38:31.877000Z"
    },
    "hidden": true
   },
   "outputs": [],
   "source": [
    "# media entre as compras"
   ]
  },
  {
   "cell_type": "code",
   "execution_count": null,
   "id": "a88e0f16",
   "metadata": {
    "ExecuteTime": {
     "end_time": "2022-08-18T17:38:31.877493Z",
     "start_time": "2022-08-18T17:38:31.877493Z"
    },
    "hidden": true
   },
   "outputs": [],
   "source": [
    "# average recency days\n",
    "df_aux = df2[['customer_id','invoice_date']].drop_duplicates().sort_values(['customer_id', 'invoice_date'], ascending=[True, True])\n",
    "df_aux['next_customer_id'] = df_aux['customer_id'].shift() #next customer\n",
    "df_aux['previous_date'] = df_aux['invoice_date'].shift() # next invoice date\n",
    "\n",
    "df_aux['avg_recency_days'] = df_aux.apply(lambda x: (x['invoice_date'] - x['previous_date']).days if x['customer_id'] == x['next_customer_id'] else np.nan, axis=1)\n",
    "\n",
    "df_aux.drop(['invoice_date', 'next_customer_id', 'previous_date'], axis=1).dropna()\n",
    "\n",
    "# average recency\n",
    "df_avg_recency_days = df_aux.groupby('customer_id').mean().reset_index()\n",
    "\n",
    "# merge\n",
    "df_ref = pd.merge(df_ref, df_avg_recency_days, on='customer_id', how='left')\n",
    "df_ref.isna().sum()"
   ]
  },
  {
   "cell_type": "markdown",
   "id": "de7a5dce",
   "metadata": {
    "hidden": true
   },
   "source": [
    "### 3.1.7 Frequency Purchase"
   ]
  },
  {
   "cell_type": "code",
   "execution_count": null,
   "id": "8ed76e32",
   "metadata": {
    "ExecuteTime": {
     "end_time": "2022-08-18T17:38:31.879022Z",
     "start_time": "2022-08-18T17:38:31.879022Z"
    },
    "hidden": true
   },
   "outputs": [],
   "source": [
    "df_aux = (df2_purchase[['customer_id', 'invoice_no', 'invoice_date']].drop_duplicates()\n",
    "                                                            .groupby('customer_id')\n",
    "                                                            .agg(max_  = ('invoice_date', 'max'), \n",
    "                                                                 min_  = ('invoice_date', 'min'), \n",
    "                                                                 days_ = ('invoice_date', lambda x: (x.max() - x.min()).days +1),\n",
    "                                                                 buy_  = ('invoice_no', 'count') )  ).reset_index()\n",
    "\n",
    "# frequency\n",
    "df_aux['frequency'] = df_aux[['buy_', 'days_']].apply(lambda x: x['buy_'] / x['days_'] if x['days_'] != 0 else 0, axis=1)\n",
    "\n",
    "# merge\n",
    "df_ref = pd.merge(df_ref, df_aux[['customer_id', 'frequency']], on='customer_id', how='left') \n",
    "df_ref.isna().sum()"
   ]
  },
  {
   "cell_type": "markdown",
   "id": "f7bc4915",
   "metadata": {
    "hidden": true
   },
   "source": [
    "### 3.1.8 Number of Returns"
   ]
  },
  {
   "cell_type": "code",
   "execution_count": null,
   "id": "bc15c4c5",
   "metadata": {
    "ExecuteTime": {
     "end_time": "2022-08-18T17:38:31.879667Z",
     "start_time": "2022-08-18T17:38:31.879667Z"
    },
    "hidden": true
   },
   "outputs": [],
   "source": [
    "# number of returns\n",
    "df_returns = df2_returns[['customer_id', 'quantity']].groupby('customer_id').sum().reset_index().rename(columns={'quantity': 'qtde_returns'})\n",
    "df_returns['qtde_returns'] = df_returns['qtde_returns']*(-1)\n",
    "\n",
    "df_ref = pd.merge(df_ref, df_returns, how='left', on='customer_id')\n",
    "df_ref.loc[df_ref['qtde_returns'].isna(),'qtde_returns'] = 0\n",
    "\n",
    "df_ref.isna().sum()"
   ]
  },
  {
   "cell_type": "markdown",
   "id": "f61d553a",
   "metadata": {
    "hidden": true
   },
   "source": [
    "### 3.1.9 Basket Size - Quantidade de itens por cesta (quantity)"
   ]
  },
  {
   "cell_type": "code",
   "execution_count": null,
   "id": "70b1e8d3",
   "metadata": {
    "ExecuteTime": {
     "end_time": "2022-08-18T17:38:31.880720Z",
     "start_time": "2022-08-18T17:38:31.880720Z"
    },
    "hidden": true
   },
   "outputs": [],
   "source": [
    "# Em media, quantas pessoas compram quando vão ao mercado"
   ]
  },
  {
   "cell_type": "code",
   "execution_count": null,
   "id": "26d82c54",
   "metadata": {
    "ExecuteTime": {
     "end_time": "2022-08-18T17:38:31.881752Z",
     "start_time": "2022-08-18T17:38:31.881752Z"
    },
    "hidden": true
   },
   "outputs": [],
   "source": [
    "df_aux = (df2_purchase.loc[:, ['customer_id', 'invoice_no','quantity']].groupby('customer_id')\n",
    "                                                                         .agg(n_purchase=('invoice_no', 'nunique'),\n",
    "                                                                              n_products=('quantity','sum')) \n",
    "                                                                         .reset_index())\n",
    "# calculation\n",
    "df_aux['avg_basket_size'] = df_aux['n_products'] / df_aux['n_purchase']\n",
    "\n",
    "# merge\n",
    "df_ref = pd.merge(df_ref, df_aux[['customer_id', 'avg_basket_size']], how='left', on='customer_id')\n",
    "df_ref.isna().sum()"
   ]
  },
  {
   "cell_type": "markdown",
   "id": "aa2f1b61",
   "metadata": {
    "hidden": true
   },
   "source": [
    "### 3.1.10 Unique Basket Size = Quantidade de produtos distintos por compra"
   ]
  },
  {
   "cell_type": "code",
   "execution_count": null,
   "id": "db38c1bb",
   "metadata": {
    "ExecuteTime": {
     "end_time": "2022-08-18T17:38:31.883283Z",
     "start_time": "2022-08-18T17:38:31.883283Z"
    },
    "hidden": true
   },
   "outputs": [],
   "source": [
    "df_aux = (df2_purchase.loc[:, ['customer_id', 'invoice_no','stock_code']].groupby('customer_id')\n",
    "                                                                         .agg(n_purchase=('invoice_no', 'nunique'),\n",
    "                                                                              n_products=('stock_code','nunique')) \n",
    "                                                                         .reset_index())\n",
    "\n",
    "# calculation\n",
    "df_aux['avg_unique_basket_size'] = df_aux['n_products'] / df_aux['n_purchase']\n",
    "\n",
    "# merge\n",
    "df_ref = pd.merge(df_ref, df_aux[['customer_id', 'avg_unique_basket_size']], how='left', on='customer_id')\n",
    "df_ref.isna().sum()"
   ]
  },
  {
   "cell_type": "code",
   "execution_count": null,
   "id": "bd857a46",
   "metadata": {
    "ExecuteTime": {
     "end_time": "2022-08-18T17:38:31.883719Z",
     "start_time": "2022-08-18T17:38:31.883719Z"
    },
    "hidden": true
   },
   "outputs": [],
   "source": [
    "df_ref.head()"
   ]
  },
  {
   "cell_type": "markdown",
   "id": "28bd1ec1",
   "metadata": {
    "heading_collapsed": true
   },
   "source": [
    "# 4.0 EDA - Exploratory Data Analysis"
   ]
  },
  {
   "cell_type": "code",
   "execution_count": 6,
   "id": "6d339591",
   "metadata": {
    "ExecuteTime": {
     "end_time": "2022-08-18T17:38:31.932096Z",
     "start_time": "2022-08-18T17:38:31.885256Z"
    },
    "hidden": true
   },
   "outputs": [
    {
     "ename": "NameError",
     "evalue": "name 'df_ref' is not defined",
     "output_type": "error",
     "traceback": [
      "\u001b[1;31m---------------------------------------------------------------------------\u001b[0m",
      "\u001b[1;31mNameError\u001b[0m                                 Traceback (most recent call last)",
      "Input \u001b[1;32mIn [6]\u001b[0m, in \u001b[0;36m<cell line: 1>\u001b[1;34m()\u001b[0m\n\u001b[1;32m----> 1\u001b[0m df4 \u001b[38;5;241m=\u001b[39m \u001b[43mdf_ref\u001b[49m\u001b[38;5;241m.\u001b[39mdropna()\u001b[38;5;241m.\u001b[39mcopy()\n",
      "\u001b[1;31mNameError\u001b[0m: name 'df_ref' is not defined"
     ]
    }
   ],
   "source": [
    "df4 = df_ref.dropna().copy()"
   ]
  },
  {
   "cell_type": "code",
   "execution_count": null,
   "id": "a2408322",
   "metadata": {
    "ExecuteTime": {
     "end_time": "2022-08-18T17:38:31.932593Z",
     "start_time": "2022-08-18T17:38:31.932593Z"
    },
    "hidden": true
   },
   "outputs": [],
   "source": [
    "df4.isna().sum()"
   ]
  },
  {
   "cell_type": "markdown",
   "id": "41ec2ef8",
   "metadata": {
    "hidden": true
   },
   "source": [
    "## 4.1 Univariate Analysis"
   ]
  },
  {
   "cell_type": "markdown",
   "id": "b5b71857",
   "metadata": {
    "hidden": true
   },
   "source": [
    "**Notes**\n",
    "Em modelos de clusterização, as ideias principais são:\n",
    "\n",
    "    1. Encontrar clusters coesos e separado\n",
    "    2. Entender métricas como: \n",
    "        - Mínimo, Máximo, Range (dispersão)\n",
    "        - Média e Mediana \n",
    "        - Desvio Padrão e Variância\n",
    "        - Coeficiente de Variação (desvio padrão dividido pela média)\n",
    "        - Distribuição"
   ]
  },
  {
   "cell_type": "code",
   "execution_count": null,
   "id": "b3bac416",
   "metadata": {
    "ExecuteTime": {
     "end_time": "2022-08-18T17:38:31.934602Z",
     "start_time": "2022-08-18T17:38:31.934602Z"
    },
    "hidden": true
   },
   "outputs": [],
   "source": [
    "#profile = ProfileReport(df4)\n",
    "#profile.to_file('output_V2.html')"
   ]
  },
  {
   "cell_type": "markdown",
   "id": "fc71755c",
   "metadata": {
    "hidden": true
   },
   "source": [
    "**Analisando outliers**"
   ]
  },
  {
   "cell_type": "markdown",
   "id": "83a3d140",
   "metadata": {
    "hidden": true
   },
   "source": [
    "### 4.1.1 Gross Revenue"
   ]
  },
  {
   "cell_type": "code",
   "execution_count": null,
   "id": "4a80d017",
   "metadata": {
    "ExecuteTime": {
     "end_time": "2022-08-18T17:38:31.935500Z",
     "start_time": "2022-08-18T17:38:31.935500Z"
    },
    "hidden": true
   },
   "outputs": [],
   "source": [
    "df4.sort_values('gross_revenue', ascending=False).head()"
   ]
  },
  {
   "cell_type": "code",
   "execution_count": null,
   "id": "e642c0fe",
   "metadata": {
    "ExecuteTime": {
     "end_time": "2022-08-18T17:38:31.936363Z",
     "start_time": "2022-08-18T17:38:31.936363Z"
    },
    "hidden": true
   },
   "outputs": [],
   "source": [
    "df4[df4['customer_id'] == 14646].head()"
   ]
  },
  {
   "cell_type": "markdown",
   "id": "f58dd62e",
   "metadata": {
    "hidden": true
   },
   "source": [
    "Apesar de um gross revenue muito alto, nada indica aqui que há um erro com este cliente, apenas um outlier que pode ser interessante para o cluster insider."
   ]
  },
  {
   "cell_type": "markdown",
   "id": "0985c7bf",
   "metadata": {
    "hidden": true
   },
   "source": [
    "### 4.1.2 Qtde Itens"
   ]
  },
  {
   "cell_type": "code",
   "execution_count": null,
   "id": "c42b6d14",
   "metadata": {
    "ExecuteTime": {
     "end_time": "2022-08-18T17:38:31.937256Z",
     "start_time": "2022-08-18T17:38:31.937256Z"
    },
    "hidden": true
   },
   "outputs": [],
   "source": [
    "df4.sort_values('qtde_itens', ascending=False).head()"
   ]
  },
  {
   "cell_type": "markdown",
   "id": "2be70787",
   "metadata": {
    "hidden": true
   },
   "source": [
    "Apesar de um valor muito alto, o cliente é o mesmo do gross revenue e não há nada de estranho, pode ser um usuário que compre muito (o dobro o segundo)"
   ]
  },
  {
   "cell_type": "markdown",
   "id": "9a0ee355",
   "metadata": {
    "hidden": true
   },
   "source": [
    "### 4.1.3 Avg Ticket"
   ]
  },
  {
   "cell_type": "code",
   "execution_count": null,
   "id": "33fa25a6",
   "metadata": {
    "ExecuteTime": {
     "end_time": "2022-08-18T17:38:31.938409Z",
     "start_time": "2022-08-18T17:38:31.938409Z"
    },
    "hidden": true
   },
   "outputs": [],
   "source": [
    "df4[df4['avg_ticket'] == 56157.5]"
   ]
  },
  {
   "cell_type": "markdown",
   "id": "ce681a0f",
   "metadata": {
    "hidden": true
   },
   "source": [
    "Um ponto a ser analisado é que o cliente comprou 80997 itens, porém, devolveu 80995. É necessário entender melhor o que houve, para isso, será observado as principais compras."
   ]
  },
  {
   "cell_type": "code",
   "execution_count": null,
   "id": "2c63f4bc",
   "metadata": {
    "ExecuteTime": {
     "end_time": "2022-08-18T17:38:31.938409Z",
     "start_time": "2022-08-18T17:38:31.938409Z"
    },
    "hidden": true
   },
   "outputs": [],
   "source": [
    "df3[df3['customer_id'] == 16446]"
   ]
  },
  {
   "cell_type": "markdown",
   "id": "f102d843",
   "metadata": {
    "hidden": true
   },
   "source": [
    "Nesta situação, o cliente no dia 2017-05-16 fez duas compras, uma no valor de 1.65 e outra no valor de 1.25. Algum tempo depois ele comprou 80995 itens e no mesmo dia devolveu esta quantidade. É importante pontuar com o time de negócio para entender se é importante manter alguém com tanta devolução no dataset ou se é necessário apenas excluí-lo. "
   ]
  },
  {
   "cell_type": "markdown",
   "id": "5e40c3ac",
   "metadata": {
    "hidden": true
   },
   "source": [
    "### 4.1.4 Frequency"
   ]
  },
  {
   "cell_type": "code",
   "execution_count": null,
   "id": "e0d163bb",
   "metadata": {
    "ExecuteTime": {
     "end_time": "2022-08-18T17:38:31.940031Z",
     "start_time": "2022-08-18T17:38:31.940031Z"
    },
    "hidden": true
   },
   "outputs": [],
   "source": [
    "df4[df4['frequency'] == 17]"
   ]
  },
  {
   "cell_type": "code",
   "execution_count": null,
   "id": "ecf37275",
   "metadata": {
    "ExecuteTime": {
     "end_time": "2022-08-18T17:38:31.940756Z",
     "start_time": "2022-08-18T17:38:31.940756Z"
    },
    "hidden": true
   },
   "outputs": [],
   "source": [
    "df3[df3['customer_id'] == 17850].sort_values('quantity', ascending=False).head()"
   ]
  },
  {
   "cell_type": "markdown",
   "id": "45d4af00",
   "metadata": {
    "hidden": true
   },
   "source": [
    "Apesar de uma frequência alta se comparado com outros valores, nenhum comportamento estranho é encontrado aqui."
   ]
  },
  {
   "cell_type": "markdown",
   "id": "73c25704",
   "metadata": {
    "hidden": true
   },
   "source": [
    "### 4.1.5 Avg Basket Size"
   ]
  },
  {
   "cell_type": "code",
   "execution_count": null,
   "id": "2324b0ca",
   "metadata": {
    "ExecuteTime": {
     "end_time": "2022-08-18T17:38:31.941195Z",
     "start_time": "2022-08-18T17:38:31.941195Z"
    },
    "hidden": true
   },
   "outputs": [],
   "source": [
    "df4[df4['avg_basket_size'] == 40498.5]"
   ]
  },
  {
   "cell_type": "markdown",
   "id": "9e22358c",
   "metadata": {
    "hidden": true
   },
   "source": [
    "É o mesmo outlier anterior, será retirado do dataset."
   ]
  },
  {
   "cell_type": "markdown",
   "id": "4f03cf3c",
   "metadata": {
    "hidden": true
   },
   "source": [
    "## 4.2 Bivariate Analysis"
   ]
  },
  {
   "cell_type": "code",
   "execution_count": null,
   "id": "c8c34d89",
   "metadata": {
    "ExecuteTime": {
     "end_time": "2022-08-18T17:38:31.942857Z",
     "start_time": "2022-08-18T17:38:31.942857Z"
    },
    "hidden": true
   },
   "outputs": [],
   "source": [
    "cols = ['customer_id']\n",
    "df42 = df4.drop(cols, axis=1)"
   ]
  },
  {
   "cell_type": "code",
   "execution_count": null,
   "id": "b5a6f38c",
   "metadata": {
    "ExecuteTime": {
     "end_time": "2022-08-18T17:38:31.943555Z",
     "start_time": "2022-08-18T17:38:31.943555Z"
    },
    "hidden": true
   },
   "outputs": [],
   "source": [
    "plt.figure(figsize=(25,12))\n",
    "sns.pairplot(df42)"
   ]
  },
  {
   "cell_type": "markdown",
   "id": "6c6bb8d8",
   "metadata": {
    "hidden": true
   },
   "source": [
    "Observando a frequencia, é possível observar que não há uma variabilidade ao fazer o gráfico dela em relação as outras features. Este é um indício de uma variável irrelevante para os modelos de clusterização. \n",
    "Avg Ticket também segue a mesma ideia de pouca variação."
   ]
  },
  {
   "cell_type": "markdown",
   "id": "80f2db89",
   "metadata": {
    "hidden": true
   },
   "source": [
    "## 4.3 Estudo de Espaço de Features"
   ]
  },
  {
   "cell_type": "markdown",
   "id": "771b85cd",
   "metadata": {
    "hidden": true
   },
   "source": [
    "O espaço de features é formado pelos registros (linhas) e as features (colunas). Este espaço de feature monta alguns clusters que podem estar misturados. Por exemplo, Frequência x Recência, a ideia da clusterização é que se tenha pontos coesos e distantes de outro cluster. Para fazer esta separação, é possível utilizar um espaço de embedding (ou espaço de latente).\n",
    "\n",
    "O espaço de embedding é um espaço desconhecido e quando os pontos são transportados para este novo espaço os pontos são organização. Existe duas formas de construir este espaço novo, a primeira é utilizando algebra linear e a segunda utilizando algoritmos de machine learning. Um destes algoritmos é o PCA, ela torna as features novas como combinações lineares de outras features. Outra forma é utilizando decision trees. Quando a árvore constrói a separação, as folhas das arvores são os espaços de embbeding. Além dessas, tem o UMEP e o t-SNE também criam espaços de embedding. "
   ]
  },
  {
   "cell_type": "code",
   "execution_count": null,
   "id": "fbbea29f",
   "metadata": {
    "ExecuteTime": {
     "end_time": "2022-08-18T17:38:31.944538Z",
     "start_time": "2022-08-18T17:38:31.944538Z"
    },
    "hidden": true
   },
   "outputs": [],
   "source": [
    "#df43 = df4.drop(columns=['customer_id', 'next_customer_id'], axis=1).copy()\n",
    "cols_selected = ['customer_id', 'gross_revenue', 'recency_days', 'qtde_produtos', 'frequency', 'qtde_returns']\n",
    "df43 = df4[cols_selected].copy()"
   ]
  },
  {
   "cell_type": "code",
   "execution_count": null,
   "id": "7ba1502f",
   "metadata": {
    "ExecuteTime": {
     "end_time": "2022-08-18T17:38:31.945572Z",
     "start_time": "2022-08-18T17:38:31.945572Z"
    },
    "hidden": true
   },
   "outputs": [],
   "source": [
    "df43.columns"
   ]
  },
  {
   "cell_type": "code",
   "execution_count": null,
   "id": "908bb812",
   "metadata": {
    "ExecuteTime": {
     "end_time": "2022-08-18T17:38:31.946569Z",
     "start_time": "2022-08-18T17:38:31.946569Z"
    },
    "hidden": true
   },
   "outputs": [],
   "source": [
    "mm = pp.MinMaxScaler()\n",
    "\n",
    "df43['gross_revenue']          = mm.fit_transform(df43[['gross_revenue']])\n",
    "df43['recency_days']           = mm.fit_transform(df43[['recency_days']])\n",
    "#df43['qtde_invoices']          = mm.fit_transform(df43[['qtde_invoices']])\n",
    "#df43['qtde_itens']             = mm.fit_transform(df43[['qtde_itens']])\n",
    "df43['qtde_produtos']          = mm.fit_transform(df43[['qtde_produtos']])\n",
    "#df43['avg_ticket']             = mm.fit_transform(df43[['avg_ticket']])\n",
    "#df43['avg_recency_days']       = mm.fit_transform(df43[['avg_recency_days']])\n",
    "df43['frequency']              = mm.fit_transform(df43[['frequency']])\n",
    "df43['qtde_returns']           = mm.fit_transform(df43[['qtde_returns']])\n",
    "#df43['avg_basket_size']        = mm.fit_transform(df43[['avg_basket_size']])\n",
    "#df43['avg_unique_basket_size'] = mm.fit_transform(df43[['avg_unique_basket_size']])\n",
    "\n",
    "X = df43.copy()"
   ]
  },
  {
   "cell_type": "code",
   "execution_count": null,
   "id": "c46ad5c8",
   "metadata": {
    "ExecuteTime": {
     "end_time": "2022-08-18T17:38:31.947854Z",
     "start_time": "2022-08-18T17:38:31.947854Z"
    },
    "hidden": true
   },
   "outputs": [],
   "source": [
    "df43.head()"
   ]
  },
  {
   "cell_type": "markdown",
   "id": "21132544",
   "metadata": {
    "hidden": true
   },
   "source": [
    "### 4.3.1 PCA"
   ]
  },
  {
   "cell_type": "code",
   "execution_count": null,
   "id": "2e4b2149",
   "metadata": {
    "ExecuteTime": {
     "end_time": "2022-08-18T17:38:31.948821Z",
     "start_time": "2022-08-18T17:38:31.948821Z"
    },
    "hidden": true
   },
   "outputs": [],
   "source": [
    "X.shape[1]"
   ]
  },
  {
   "cell_type": "code",
   "execution_count": null,
   "id": "15b89506",
   "metadata": {
    "ExecuteTime": {
     "end_time": "2022-08-18T17:38:31.949775Z",
     "start_time": "2022-08-18T17:38:31.949775Z"
    },
    "hidden": true
   },
   "outputs": [],
   "source": [
    "pca = dd.PCA(n_components=X.shape[1])\n",
    "\n",
    "principal_components = pca.fit_transform(X)\n",
    "\n",
    "# plot explained variable\n",
    "features = range(pca.n_components_)\n",
    "\n",
    "plt.bar(features, pca.explained_variance_ratio_, color='black')\n",
    "\n",
    "#pca component\n",
    "df_pca = pd.DataFrame(principal_components)"
   ]
  },
  {
   "cell_type": "markdown",
   "id": "b9b14d2f",
   "metadata": {
    "hidden": true
   },
   "source": [
    "O gráfico indica quais são os principais componentes com maior variação de dados. "
   ]
  },
  {
   "cell_type": "code",
   "execution_count": null,
   "id": "9a012657",
   "metadata": {
    "ExecuteTime": {
     "end_time": "2022-08-18T17:38:31.952318Z",
     "start_time": "2022-08-18T17:38:31.952318Z"
    },
    "hidden": true
   },
   "outputs": [],
   "source": [
    "sns.scatterplot(x=0, y=1, data=df_pca)"
   ]
  },
  {
   "cell_type": "markdown",
   "id": "b6542d24",
   "metadata": {
    "hidden": true
   },
   "source": [
    "Ou seja, não é possível ver nenhuma divisão nos dados a partir do PCA. "
   ]
  },
  {
   "cell_type": "markdown",
   "id": "f908aaa2",
   "metadata": {
    "hidden": true
   },
   "source": [
    "### 4.3.2 UMAP"
   ]
  },
  {
   "cell_type": "code",
   "execution_count": null,
   "id": "7b7566b6",
   "metadata": {
    "ExecuteTime": {
     "end_time": "2022-08-18T17:38:31.952973Z",
     "start_time": "2022-08-18T17:38:31.952973Z"
    },
    "hidden": true
   },
   "outputs": [],
   "source": [
    "reducer = umap.UMAP(random_state=42)\n",
    "embedding = reducer.fit_transform(X)\n",
    "\n",
    "# embedding\n",
    "df_pca['embedding_x'] = embedding[:,0]\n",
    "df_pca['embedding_y'] = embedding[:,1]\n",
    "\n",
    "#plot UMAP\n",
    "sns.scatterplot(x='embedding_x', y='embedding_y',  \n",
    "                data=df_pca)"
   ]
  },
  {
   "cell_type": "markdown",
   "id": "96807904",
   "metadata": {
    "hidden": true
   },
   "source": [
    "Também não há uma grande separação dos dados a partir do UMAP."
   ]
  },
  {
   "cell_type": "markdown",
   "id": "08da0ffd",
   "metadata": {
    "hidden": true
   },
   "source": [
    "### 4.3.3 t-SNE"
   ]
  },
  {
   "cell_type": "code",
   "execution_count": null,
   "id": "ed8f6aee",
   "metadata": {
    "ExecuteTime": {
     "end_time": "2022-08-18T17:38:31.954021Z",
     "start_time": "2022-08-18T17:38:31.954021Z"
    },
    "hidden": true
   },
   "outputs": [],
   "source": [
    "reducer = TSNE(n_components=2, random_state=42, n_jobs=-1)\n",
    "embedding = reducer.fit_transform(X)\n",
    "\n",
    "# embedding\n",
    "df_pca['embedding_x'] = embedding[:,0]\n",
    "df_pca['embedding_y'] = embedding[:,1]\n",
    "\n",
    "#plot UMAP\n",
    "sns.scatterplot(x='embedding_x', y='embedding_y',  \n",
    "                data=df_pca)"
   ]
  },
  {
   "cell_type": "markdown",
   "id": "0314dcce",
   "metadata": {
    "hidden": true
   },
   "source": [
    "### 4.3.3 Tree-Based Embedding"
   ]
  },
  {
   "cell_type": "code",
   "execution_count": null,
   "id": "0efef4e3",
   "metadata": {
    "ExecuteTime": {
     "end_time": "2022-08-18T17:38:31.955136Z",
     "start_time": "2022-08-18T17:38:31.955136Z"
    },
    "hidden": true
   },
   "outputs": [],
   "source": [
    "X.head()"
   ]
  },
  {
   "cell_type": "markdown",
   "id": "690f4ea2",
   "metadata": {
    "hidden": true
   },
   "source": [
    "Aqui vai ser definido que a variável gross_revenue é a variável \"resposta\", uma vez que está se tratando de um modelo não supervisionado e não existe variável resposta. A escolha desta variável se dá porque no final das contas o cluster Insider tem como principal característica pessoas que compram mais, assim, usar a gross_revenue faz sentido do ponto de vista de negócio."
   ]
  },
  {
   "cell_type": "code",
   "execution_count": null,
   "id": "a9bd67cc",
   "metadata": {
    "ExecuteTime": {
     "end_time": "2022-08-18T17:38:31.955850Z",
     "start_time": "2022-08-18T17:38:31.955850Z"
    },
    "hidden": true
   },
   "outputs": [],
   "source": [
    "# training dataset\n",
    "X = df43.drop(columns = ['customer_id', 'gross_revenue'])\n",
    "y = df43['gross_revenue']\n",
    "\n",
    "# model definition\n",
    "rf_model = en.RandomForestRegressor(random_state=42, n_estimators=100)\n",
    "\n",
    "# model training\n",
    "rf_model.fit(X, y)\n",
    "\n",
    "# leaf\n",
    "\n",
    "#dataframe leaf"
   ]
  },
  {
   "cell_type": "code",
   "execution_count": 7,
   "id": "2f4ea741",
   "metadata": {
    "ExecuteTime": {
     "end_time": "2022-08-18T17:38:31.993837Z",
     "start_time": "2022-08-18T17:38:31.957123Z"
    },
    "hidden": true
   },
   "outputs": [
    {
     "ename": "NameError",
     "evalue": "name 'rf_model' is not defined",
     "output_type": "error",
     "traceback": [
      "\u001b[1;31m---------------------------------------------------------------------------\u001b[0m",
      "\u001b[1;31mNameError\u001b[0m                                 Traceback (most recent call last)",
      "Input \u001b[1;32mIn [7]\u001b[0m, in \u001b[0;36m<cell line: 1>\u001b[1;34m()\u001b[0m\n\u001b[1;32m----> 1\u001b[0m df_leaf \u001b[38;5;241m=\u001b[39m pd\u001b[38;5;241m.\u001b[39mDataFrame(\u001b[43mrf_model\u001b[49m\u001b[38;5;241m.\u001b[39mapply(X))\n",
      "\u001b[1;31mNameError\u001b[0m: name 'rf_model' is not defined"
     ]
    }
   ],
   "source": [
    "df_leaf = pd.DataFrame(rf_model.apply(X))"
   ]
  },
  {
   "cell_type": "code",
   "execution_count": null,
   "id": "100d5a13",
   "metadata": {
    "ExecuteTime": {
     "end_time": "2022-08-18T17:38:31.994896Z",
     "start_time": "2022-08-18T17:38:31.994896Z"
    },
    "hidden": true
   },
   "outputs": [],
   "source": [
    "df_leaf.shape"
   ]
  },
  {
   "cell_type": "code",
   "execution_count": null,
   "id": "ecf62187",
   "metadata": {
    "ExecuteTime": {
     "end_time": "2022-08-18T17:38:31.996729Z",
     "start_time": "2022-08-18T17:38:31.996729Z"
    },
    "hidden": true
   },
   "outputs": [],
   "source": [
    "df_leaf.head(10)"
   ]
  },
  {
   "cell_type": "markdown",
   "id": "1141d8ef",
   "metadata": {
    "hidden": true
   },
   "source": [
    "Cada coluna é uma decision tree que escolheu um customer (linhas) para uma folha específica. Ou seja, a árvore \"0\", colocou o customer \"0\" no index da folha \"2984\", já a árvore \"1\", colocou este mesmo customer no index da folha \"2726\" e assim por diante. Ou seja, cada vez que se varia as features, o usuário cai em uma árvore diferente, gerando assim, um novo espaço de 100 dimensões. Para ver isto é necessário fazer uma redução de dimensionalidade. "
   ]
  },
  {
   "cell_type": "code",
   "execution_count": null,
   "id": "4ddf2dfc",
   "metadata": {
    "ExecuteTime": {
     "end_time": "2022-08-18T17:38:31.998091Z",
     "start_time": "2022-08-18T17:38:31.998091Z"
    },
    "hidden": true
   },
   "outputs": [],
   "source": [
    "# reducer dimensionality\n",
    "reducer = umap.UMAP(random_state=42)\n",
    "embedding = reducer.fit_transform(df_leaf)\n",
    "\n",
    "# embedding\n",
    "df_tree = pd.DataFrame()\n",
    "df_tree['embedding_x'] = embedding[:,0]\n",
    "df_tree['embedding_y'] = embedding[:,1]\n",
    "\n",
    "#plot UMAP\n",
    "sns.scatterplot(x='embedding_x', y='embedding_y',  \n",
    "                data=df_tree)"
   ]
  },
  {
   "cell_type": "markdown",
   "id": "d254c0d9",
   "metadata": {
    "hidden": true
   },
   "source": [
    "Ou seja, a árvore criou espaço bem distintos e separados, onde agora os algoritmos serão rodados, não mais em cima dos espaços anteriores. O ponto negativo é que neste tipo de espaço perde-se a explicabilidade do modelo. Em um espaço euclidiano, observa-se as variáveis e tira-se conclusões fáceis dos agrupamentos, coisa que se perde aqui. "
   ]
  },
  {
   "cell_type": "markdown",
   "id": "1aa186b9",
   "metadata": {
    "heading_collapsed": true
   },
   "source": [
    "# 5.0 Data Preparation"
   ]
  },
  {
   "cell_type": "markdown",
   "id": "e37de1b0",
   "metadata": {
    "hidden": true
   },
   "source": [
    "Padronização (Standardization) -> Premissa de que os dados vieram de uma distribuição normal\n",
    "Rescala (Rescale) -> Não Premissa de que os dados vieram de um distribuição normal"
   ]
  },
  {
   "cell_type": "markdown",
   "id": "efd16c24",
   "metadata": {
    "hidden": true
   },
   "source": [
    "**Regras**\n",
    "1. Distribuição Normal e não possui Outliers -> Standard Scaler\n",
    "2. Distribuição Normal e possui Outliers -> Robust Scaler\n",
    "3. Não distribuição normal -> Min Max Scaler"
   ]
  },
  {
   "cell_type": "markdown",
   "id": "e955853b",
   "metadata": {
    "hidden": true
   },
   "source": [
    "**Testes de Normalidade**\n",
    "\n",
    "- QQ Plot - Quantile Quantile Plot (Quantile Teorica x Quantile Real)\n",
    "- KS Teste - Kolgomorov Smirnoff (Teste de Hipótese)\n",
    "    \n",
    "    Se p-value > 0.5 -> Distribuição Normal\n",
    "    Se p-value < 0.5 -> Distribuição não-Normal\n",
    "\n",
    "**Detecção Outlier**\n",
    "\n",
    "- Box Plot -> Pontos são idenficados como Outliers\n",
    "- IQR * 2.5 -> Acima desse valor é um Outlier"
   ]
  },
  {
   "cell_type": "code",
   "execution_count": null,
   "id": "384401c5",
   "metadata": {
    "ExecuteTime": {
     "end_time": "2022-08-18T17:38:31.999065Z",
     "start_time": "2022-08-18T17:38:31.999065Z"
    },
    "hidden": true
   },
   "outputs": [],
   "source": [
    " #df5 = df4.copy() \n",
    "df5 = df_tree.copy()"
   ]
  },
  {
   "cell_type": "code",
   "execution_count": null,
   "id": "849a79c8",
   "metadata": {
    "ExecuteTime": {
     "end_time": "2022-08-18T17:38:31.999667Z",
     "start_time": "2022-08-18T17:38:31.999667Z"
    },
    "hidden": true
   },
   "outputs": [],
   "source": [
    "df5.head()"
   ]
  },
  {
   "cell_type": "code",
   "execution_count": null,
   "id": "6a7e9946",
   "metadata": {
    "ExecuteTime": {
     "end_time": "2022-08-18T17:38:32.000921Z",
     "start_time": "2022-08-18T17:38:32.000921Z"
    },
    "hidden": true
   },
   "outputs": [],
   "source": [
    "#mm = pp.MinMaxScaler()\n",
    "#ss = pp.StandardScaler()\n",
    "#rs = pp.RobustScaler()\n",
    "\n",
    "#mm_gross_revenue = pp.MinMaxScaler()\n",
    "#mm_recency_days = pp.MinMaxScaler()\n",
    "#mm_qtde_produtos = pp.MinMaxScaler()\n",
    "#mm_frequency = pp.MinMaxScaler()\n",
    "#mm_qtde_returns = pp.MinMaxScaler()\n",
    "#df5['gross_revenue'] = mm.fit_transform(df5[['gross_revenue']])\n",
    "#df5['recency_days'] = mm.fit_transform(df5[['recency_days']])\n",
    "##df5['qtde_invoices'] = mm.fit_transform(df5[['qtde_invoices']])\n",
    "#df5['qtde_produtos'] = mm.fit_transform(df5[['qtde_produtos']])\n",
    "##df5['qtde_itens'] = mm.fit_transform(df5[['qtde_itens']])\n",
    "##df5['avg_ticket'] = mm.fit_transform(df5[['avg_ticket']])\n",
    "##df5['avg_recency_days'] = mm.fit_transform(df5[['avg_recency_days']])\n",
    "\n",
    "#df5['frequency'] = mm.fit_transform(df5[['frequency']])\n",
    "#df5['qtde_returns'] = mm.fit_transform(df5[['qtde_returns']])\n",
    "##df5['avg_basket_size'] = mm.fit_transform(df5[['avg_basket_size']])\n",
    "##df5['avg_unique_basket_size'] = mm.fit_transform(df5[['avg_unique_basket_size']])   "
   ]
  },
  {
   "cell_type": "markdown",
   "id": "2d0e48b9",
   "metadata": {
    "heading_collapsed": true
   },
   "source": [
    "# 6.0 Feature Selection"
   ]
  },
  {
   "cell_type": "code",
   "execution_count": null,
   "id": "856ab019",
   "metadata": {
    "ExecuteTime": {
     "end_time": "2022-08-18T17:38:32.001212Z",
     "start_time": "2022-08-18T17:38:32.001212Z"
    },
    "hidden": true
   },
   "outputs": [],
   "source": [
    "cols_selected = ['customer_id', 'gross_revenue', 'recency_days', 'qtde_produtos', 'frequency', 'qtde_returns']"
   ]
  },
  {
   "cell_type": "code",
   "execution_count": null,
   "id": "676ad0a2",
   "metadata": {
    "ExecuteTime": {
     "end_time": "2022-08-18T17:38:32.003156Z",
     "start_time": "2022-08-18T17:38:32.003156Z"
    },
    "hidden": true
   },
   "outputs": [],
   "source": [
    "#df6 = df5[cols_selected].copy()\n",
    "df6 = df_tree.copy()"
   ]
  },
  {
   "cell_type": "markdown",
   "id": "c3a7d94c",
   "metadata": {
    "heading_collapsed": true
   },
   "source": [
    "# 7.0 Hyperparameter Fine-Tuning"
   ]
  },
  {
   "cell_type": "code",
   "execution_count": null,
   "id": "c9cccf17",
   "metadata": {
    "ExecuteTime": {
     "end_time": "2022-08-18T17:38:32.003917Z",
     "start_time": "2022-08-18T17:38:32.003917Z"
    },
    "hidden": true
   },
   "outputs": [],
   "source": [
    "df_tree.head()"
   ]
  },
  {
   "cell_type": "code",
   "execution_count": null,
   "id": "3550c74f",
   "metadata": {
    "ExecuteTime": {
     "end_time": "2022-08-18T17:38:32.004892Z",
     "start_time": "2022-08-18T17:38:32.004892Z"
    },
    "hidden": true
   },
   "outputs": [],
   "source": [
    "#X = df6.drop(columns=['customer_id'])\n",
    "X = df_tree.copy()"
   ]
  },
  {
   "cell_type": "code",
   "execution_count": null,
   "id": "3cf9d666",
   "metadata": {
    "ExecuteTime": {
     "end_time": "2022-08-18T17:38:32.005757Z",
     "start_time": "2022-08-18T17:38:32.005757Z"
    },
    "hidden": true
   },
   "outputs": [],
   "source": [
    "X.head()"
   ]
  },
  {
   "cell_type": "code",
   "execution_count": null,
   "id": "34de335a",
   "metadata": {
    "ExecuteTime": {
     "end_time": "2022-08-18T17:38:32.006507Z",
     "start_time": "2022-08-18T17:38:32.006507Z"
    },
    "hidden": true
   },
   "outputs": [],
   "source": [
    "#clusters = [2,3,4,5,6,7]\n",
    "clusters = np.arange(2,26,1)"
   ]
  },
  {
   "cell_type": "markdown",
   "id": "cc9ffe28",
   "metadata": {
    "hidden": true
   },
   "source": [
    "## 7.1 K-Means"
   ]
  },
  {
   "cell_type": "code",
   "execution_count": null,
   "id": "d1ea259f",
   "metadata": {
    "ExecuteTime": {
     "end_time": "2022-08-18T17:38:32.007615Z",
     "start_time": "2022-08-18T17:38:32.007615Z"
    },
    "hidden": true
   },
   "outputs": [],
   "source": [
    "kmeans_list = []\n",
    "for k in clusters:\n",
    "# model definition\n",
    "    kmeans_model = c.KMeans(n_clusters=k)\n",
    "\n",
    "    # model training\n",
    "    kmeans_model.fit(X)\n",
    "\n",
    "    # model predict\n",
    "    labels = kmeans_model.predict(X)\n",
    "\n",
    "    # model performance\n",
    "    sil = m.silhouette_score(X, labels, metric='euclidean')\n",
    "    kmeans_list.append(sil)"
   ]
  },
  {
   "cell_type": "code",
   "execution_count": null,
   "id": "59ca273b",
   "metadata": {
    "ExecuteTime": {
     "end_time": "2022-08-18T17:38:32.009011Z",
     "start_time": "2022-08-18T17:38:32.009011Z"
    },
    "hidden": true
   },
   "outputs": [],
   "source": [
    "plt.plot(clusters, kmeans_list, linestyle='--', marker='o', color='b')\n",
    "plt.xlabel('K');\n",
    "plt.ylabel('Silhouette Score');\n",
    "plt.title('Silhouette Score x K')"
   ]
  },
  {
   "cell_type": "markdown",
   "id": "9d261f87",
   "metadata": {
    "hidden": true
   },
   "source": [
    "## 7.2 GMM"
   ]
  },
  {
   "cell_type": "code",
   "execution_count": null,
   "id": "02479c8f",
   "metadata": {
    "ExecuteTime": {
     "end_time": "2022-08-18T17:38:32.009011Z",
     "start_time": "2022-08-18T17:38:32.009011Z"
    },
    "hidden": true
   },
   "outputs": [],
   "source": [
    "from sklearn import mixture as mx"
   ]
  },
  {
   "cell_type": "code",
   "execution_count": null,
   "id": "0c527a83",
   "metadata": {
    "ExecuteTime": {
     "end_time": "2022-08-18T17:38:32.011906Z",
     "start_time": "2022-08-18T17:38:32.011906Z"
    },
    "hidden": true
   },
   "outputs": [],
   "source": [
    "gmm_list = []\n",
    "for k in clusters:\n",
    "    # model definition\n",
    "    gmm_model = mx.GaussianMixture(n_components=k)\n",
    "\n",
    "    # model training\n",
    "    gmm_model.fit(X)\n",
    "\n",
    "    # model predict\n",
    "    labels = gmm_model.predict(X)\n",
    "    # model performance\n",
    "    sil = m.silhouette_score(X, labels, metric='euclidean')\n",
    "    gmm_list.append(sil)"
   ]
  },
  {
   "cell_type": "code",
   "execution_count": null,
   "id": "c817552b",
   "metadata": {
    "ExecuteTime": {
     "end_time": "2022-08-18T17:38:32.012723Z",
     "start_time": "2022-08-18T17:38:32.012723Z"
    },
    "hidden": true
   },
   "outputs": [],
   "source": [
    "plt.plot(clusters,gmm_list, linestyle='--', marker='o', color='b')\n",
    "plt.xlabel('K');\n",
    "plt.ylabel('Silhouette Score');\n",
    "plt.title('Silhouette Score x K')"
   ]
  },
  {
   "cell_type": "markdown",
   "id": "1c065308",
   "metadata": {
    "hidden": true
   },
   "source": [
    "AIC - Ajuste dos dados\n",
    "\n",
    "BIC - Ajuste dos parametros"
   ]
  },
  {
   "cell_type": "markdown",
   "id": "2b1f6af7",
   "metadata": {
    "hidden": true
   },
   "source": [
    "## 7.3 Hierarchical Clustering"
   ]
  },
  {
   "cell_type": "code",
   "execution_count": null,
   "id": "299b0ebd",
   "metadata": {
    "ExecuteTime": {
     "end_time": "2022-08-18T17:38:32.013672Z",
     "start_time": "2022-08-18T17:38:32.013672Z"
    },
    "hidden": true
   },
   "outputs": [],
   "source": [
    "from scipy.cluster import hierarchy as hc"
   ]
  },
  {
   "cell_type": "code",
   "execution_count": null,
   "id": "333dd282",
   "metadata": {
    "ExecuteTime": {
     "end_time": "2022-08-18T17:38:32.014675Z",
     "start_time": "2022-08-18T17:38:32.014675Z"
    },
    "hidden": true
   },
   "outputs": [],
   "source": [
    "# model definition and training\n",
    "hc_model = hc.linkage(X, method='ward')"
   ]
  },
  {
   "cell_type": "code",
   "execution_count": null,
   "id": "3e931eaa",
   "metadata": {
    "ExecuteTime": {
     "end_time": "2022-08-18T17:38:32.015288Z",
     "start_time": "2022-08-18T17:38:32.015288Z"
    },
    "hidden": true
   },
   "outputs": [],
   "source": [
    "#hc.dendrogram(hc_model, leaf_rotation=90, leaf_font_size=15)\n",
    "\n",
    "#plt.plot()"
   ]
  },
  {
   "cell_type": "code",
   "execution_count": null,
   "id": "c7acdc20",
   "metadata": {
    "ExecuteTime": {
     "end_time": "2022-08-18T17:38:32.016652Z",
     "start_time": "2022-08-18T17:38:32.016652Z"
    },
    "hidden": true
   },
   "outputs": [],
   "source": [
    "#hc.dendrogram(hc_model, truncate_mode='lastp', p=12, leaf_rotation=90, leaf_font_size=8, show_contracted=True)\n",
    "#plt.plot()"
   ]
  },
  {
   "cell_type": "markdown",
   "id": "d6bde26b",
   "metadata": {
    "hidden": true
   },
   "source": [
    "### 7.3.1 HClustering Silhouette Score"
   ]
  },
  {
   "cell_type": "code",
   "execution_count": null,
   "id": "6b3b7471",
   "metadata": {
    "ExecuteTime": {
     "end_time": "2022-08-18T17:38:32.017701Z",
     "start_time": "2022-08-18T17:38:32.017701Z"
    },
    "hidden": true
   },
   "outputs": [],
   "source": [
    "hc_list = []\n",
    "for k in clusters:\n",
    "    # model definition & training\n",
    "    hc_model = hc.linkage(X,'ward')\n",
    "\n",
    "    # model predict\n",
    "    label = hc.fcluster(hc_model, k, criterion='maxclust')\n",
    "\n",
    "    # metrics\n",
    "    sil = m.silhouette_score(X, label, metric='euclidean')\n",
    "    hc_list.append(sil)"
   ]
  },
  {
   "cell_type": "code",
   "execution_count": null,
   "id": "1f386323",
   "metadata": {
    "ExecuteTime": {
     "end_time": "2022-08-18T17:38:32.018858Z",
     "start_time": "2022-08-18T17:38:32.018858Z"
    },
    "hidden": true
   },
   "outputs": [],
   "source": [
    "hc_list"
   ]
  },
  {
   "cell_type": "code",
   "execution_count": null,
   "id": "7667842a",
   "metadata": {
    "ExecuteTime": {
     "end_time": "2022-08-18T17:38:32.021241Z",
     "start_time": "2022-08-18T17:38:32.021241Z"
    },
    "hidden": true
   },
   "outputs": [],
   "source": [
    "plt.plot(clusters, hc_list, linestyle='--', marker='o', color='b')"
   ]
  },
  {
   "cell_type": "code",
   "execution_count": null,
   "id": "e1733335",
   "metadata": {
    "hidden": true
   },
   "outputs": [],
   "source": []
  },
  {
   "cell_type": "markdown",
   "id": "cde823f4",
   "metadata": {
    "hidden": true
   },
   "source": [
    "## 7.4 DBSCAN"
   ]
  },
  {
   "cell_type": "markdown",
   "id": "00c38f92",
   "metadata": {
    "hidden": true
   },
   "source": [
    "**voltar, o DBSCAN está errado**"
   ]
  },
  {
   "cell_type": "code",
   "execution_count": null,
   "id": "8146994f",
   "metadata": {
    "ExecuteTime": {
     "end_time": "2022-08-18T17:38:32.022026Z",
     "start_time": "2022-08-18T17:38:32.022026Z"
    },
    "hidden": true
   },
   "outputs": [],
   "source": [
    "#eps=0.2\n",
    "#min_samples=2\n",
    "\n",
    "## model definition\n",
    "\n",
    "#dbscan_model = c.DBSCAN(eps=eps, min_samples=min_samples)\n",
    "\n",
    "## model training & predict\n",
    "#labels = dbscan_model.fit_predict(X)\n",
    "\n",
    "#sil = m.silhouette_score(X, labels, metric='euclidean')\n",
    "#sil"
   ]
  },
  {
   "cell_type": "code",
   "execution_count": null,
   "id": "8cd44c7f",
   "metadata": {
    "ExecuteTime": {
     "end_time": "2022-08-18T17:38:32.023164Z",
     "start_time": "2022-08-18T17:38:32.023164Z"
    },
    "hidden": true
   },
   "outputs": [],
   "source": [
    "#unique(labels)"
   ]
  },
  {
   "cell_type": "code",
   "execution_count": null,
   "id": "7c9bd175",
   "metadata": {
    "ExecuteTime": {
     "end_time": "2022-08-18T17:38:32.024099Z",
     "start_time": "2022-08-18T17:38:32.024099Z"
    },
    "hidden": true
   },
   "outputs": [],
   "source": [
    "#from sklearn.neighbors import NearestNeighbors"
   ]
  },
  {
   "cell_type": "code",
   "execution_count": null,
   "id": "e53a9bee",
   "metadata": {
    "ExecuteTime": {
     "end_time": "2022-08-18T17:38:32.025412Z",
     "start_time": "2022-08-18T17:38:32.025412Z"
    },
    "hidden": true
   },
   "outputs": [],
   "source": [
    "#neighbors = NearestNeighbors(n_neighbors=min_samples).fit(X)\n",
    "#distances, indices = neighbors.kneighbors(X)"
   ]
  },
  {
   "cell_type": "code",
   "execution_count": null,
   "id": "17402e7b",
   "metadata": {
    "ExecuteTime": {
     "end_time": "2022-08-18T17:38:32.026249Z",
     "start_time": "2022-08-18T17:38:32.026249Z"
    },
    "hidden": true
   },
   "outputs": [],
   "source": [
    "#dbscan_list = [0.622034, 0.000000, 0.000000, 0.000000, 0.000000, 0.000000]"
   ]
  },
  {
   "cell_type": "markdown",
   "id": "28584e38",
   "metadata": {
    "hidden": true
   },
   "source": [
    "## 7.5 Results"
   ]
  },
  {
   "cell_type": "code",
   "execution_count": null,
   "id": "b871149b",
   "metadata": {
    "ExecuteTime": {
     "end_time": "2022-08-18T17:38:32.027203Z",
     "start_time": "2022-08-18T17:38:32.027203Z"
    },
    "hidden": true
   },
   "outputs": [],
   "source": [
    "df_results = pd.DataFrame({'Kmeans': kmeans_list,\n",
    "                           'GMM': gmm_list,\n",
    "                           'HC': hc_list\n",
    "                           #'DBSCAN': dbscan_list\n",
    "                          }).T \n",
    "df_results.columns = clusters"
   ]
  },
  {
   "cell_type": "code",
   "execution_count": null,
   "id": "9214fced",
   "metadata": {
    "ExecuteTime": {
     "end_time": "2022-08-18T17:38:32.027594Z",
     "start_time": "2022-08-18T17:38:32.027594Z"
    },
    "hidden": true
   },
   "outputs": [],
   "source": [
    "df_results.style.highlight_max(color='lightgreen', axis=1)"
   ]
  },
  {
   "cell_type": "markdown",
   "id": "40869e92",
   "metadata": {
    "hidden": true
   },
   "source": [
    "## 7.3 Silhouette Analysis"
   ]
  },
  {
   "cell_type": "code",
   "execution_count": null,
   "id": "f211f38c",
   "metadata": {
    "ExecuteTime": {
     "end_time": "2022-08-18T17:38:32.028776Z",
     "start_time": "2022-08-18T17:38:32.028776Z"
    },
    "hidden": true
   },
   "outputs": [],
   "source": [
    "#fig,ax = plt.subplots(3,2)\n",
    "#fig.set_size_inches(25,20)\n",
    "\n",
    "#for k in clusters:\n",
    "#    q, mod = divmod(k,2)\n",
    "    \n",
    "#    ax[q-1,mod].set_xlim([-0.1,1])\n",
    "#    ax[q-1,mod].set_ylim([0, len(X) + (k+1)*10])\n",
    "    \n",
    "    # model definition & training\n",
    "#    hc_model = hc.linkage(X,'ward')\n",
    "  \n",
    "    # model predict\n",
    "#    labels = hc.fcluster(hc_model, k, criterion='maxclust')\n",
    "\n",
    "    # performance\n",
    "#    ss = m.silhouette_score(X, labels, metric='euclidean')\n",
    "#    print('For K = {} -> Silhouette Score: {}'.format(k,ss))\n",
    "    \n",
    "#    samples_silhoutte_values = m.silhouette_samples(X, labels)\n",
    "    \n",
    "#    y_lower = 10\n",
    "#    for i in range(k):\n",
    "\n",
    "        \n",
    "\n",
    "        # select clusters\n",
    "#        ith_samples_silhouette_values = samples_silhoutte_values[labels==i] \n",
    "        \n",
    "        # sort values\n",
    "#        ith_samples_silhouette_values.sort()\n",
    "        \n",
    "        # size clusters\n",
    "#        size_cluster_i = ith_samples_silhouette_values.shape[0]\n",
    "#        y_upper = y_lower + size_cluster_i\n",
    "        \n",
    "#        cmap = cm.get_cmap('Spectral')\n",
    "#        color = cmap(i/k)\n",
    "        \n",
    "#        ax[q-1,mod].fill_betweenx(np.arange(y_lower, y_upper), 0, ith_samples_silhouette_values)\n",
    "#        y_lower = y_upper + 10\n",
    "    \n",
    "#    ax[q-1, mod].set_yticks([])\n",
    "#    ax[q-1, mod].set_xticks([-0.1, 0, 0.2, 0.4, 0.6, 0.8, 1])"
   ]
  },
  {
   "cell_type": "code",
   "execution_count": null,
   "id": "d5083ad9",
   "metadata": {
    "ExecuteTime": {
     "end_time": "2022-08-18T17:38:32.029472Z",
     "start_time": "2022-08-18T17:38:32.029472Z"
    },
    "hidden": true
   },
   "outputs": [],
   "source": [
    "#fig,ax = plt.subplots(3,2,figsize=(25,18))\n",
    "\n",
    "#for k in clusters:\n",
    "#    km = c.KMeans(n_clusters=k, init='random', n_init=10, max_iter=100, random_state=42)\n",
    "#    q, mod = divmod(k,2)\n",
    "#    visualizer = SilhouetteVisualizer(km, color='yellowbrick', ax=ax[q-1][mod])\n",
    "#    visualizer.fit(X)\n",
    "#    visualizer.finalize()"
   ]
  },
  {
   "cell_type": "markdown",
   "id": "aca6b169",
   "metadata": {
    "hidden": true
   },
   "source": [
    "A princípio, existe um cluster muito maior que os outros que engloba a maior parte dos dados. As métricas não funcionarão bem."
   ]
  },
  {
   "cell_type": "markdown",
   "id": "75684f68",
   "metadata": {
    "heading_collapsed": true
   },
   "source": [
    "# 8.0 Model Training"
   ]
  },
  {
   "cell_type": "markdown",
   "id": "080e7678",
   "metadata": {
    "hidden": true
   },
   "source": [
    "## 8.1 K-Means"
   ]
  },
  {
   "cell_type": "code",
   "execution_count": 8,
   "id": "56332a7e",
   "metadata": {
    "ExecuteTime": {
     "end_time": "2022-08-18T17:38:32.071933Z",
     "start_time": "2022-08-18T17:38:32.032089Z"
    },
    "hidden": true
   },
   "outputs": [
    {
     "ename": "NameError",
     "evalue": "name 'X' is not defined",
     "output_type": "error",
     "traceback": [
      "\u001b[1;31m---------------------------------------------------------------------------\u001b[0m",
      "\u001b[1;31mNameError\u001b[0m                                 Traceback (most recent call last)",
      "Input \u001b[1;32mIn [8]\u001b[0m, in \u001b[0;36m<cell line: 6>\u001b[1;34m()\u001b[0m\n\u001b[0;32m      3\u001b[0m kmeans \u001b[38;5;241m=\u001b[39m c\u001b[38;5;241m.\u001b[39mKMeans(init\u001b[38;5;241m=\u001b[39m\u001b[38;5;124m'\u001b[39m\u001b[38;5;124mrandom\u001b[39m\u001b[38;5;124m'\u001b[39m, n_clusters\u001b[38;5;241m=\u001b[39mk, n_init\u001b[38;5;241m=\u001b[39m\u001b[38;5;241m10\u001b[39m, max_iter\u001b[38;5;241m=\u001b[39m\u001b[38;5;241m300\u001b[39m)\n\u001b[0;32m      5\u001b[0m \u001b[38;5;66;03m# model training\u001b[39;00m\n\u001b[1;32m----> 6\u001b[0m kmeans\u001b[38;5;241m.\u001b[39mfit(\u001b[43mX\u001b[49m)\n\u001b[0;32m      8\u001b[0m \u001b[38;5;66;03m# clustering\u001b[39;00m\n\u001b[0;32m      9\u001b[0m labels \u001b[38;5;241m=\u001b[39m kmeans\u001b[38;5;241m.\u001b[39mlabels_\n",
      "\u001b[1;31mNameError\u001b[0m: name 'X' is not defined"
     ]
    }
   ],
   "source": [
    "# model definition\n",
    "k = 8\n",
    "kmeans = c.KMeans(init='random', n_clusters=k, n_init=10, max_iter=300)\n",
    "\n",
    "# model training\n",
    "kmeans.fit(X)\n",
    "\n",
    "# clustering\n",
    "labels = kmeans.labels_"
   ]
  },
  {
   "cell_type": "markdown",
   "id": "1617073e",
   "metadata": {
    "hidden": true
   },
   "source": [
    "### 8.1.1 Cluster Validation"
   ]
  },
  {
   "cell_type": "code",
   "execution_count": null,
   "id": "b3c1e7fb",
   "metadata": {
    "ExecuteTime": {
     "end_time": "2022-08-18T17:38:32.073528Z",
     "start_time": "2022-08-18T17:38:32.073528Z"
    },
    "hidden": true
   },
   "outputs": [],
   "source": [
    "#print(  f'WSS Value: {kmeans.inertia_}')\n",
    "print(f'Silhouette Score: {m.silhouette_score(X, labels, metric=\"euclidean\")}')"
   ]
  },
  {
   "cell_type": "code",
   "execution_count": null,
   "id": "735607ac",
   "metadata": {
    "ExecuteTime": {
     "end_time": "2022-08-18T17:38:32.074584Z",
     "start_time": "2022-08-18T17:38:32.074584Z"
    },
    "hidden": true
   },
   "outputs": [],
   "source": [
    "k = 8\n",
    "# model definition\n",
    "gmm_model = mx.GaussianMixture(n_components=k)\n",
    "\n",
    "# model training\n",
    "gmm_model.fit(X)\n",
    "\n",
    "# model predict\n",
    "labels = gmm_model.predict(X)"
   ]
  },
  {
   "cell_type": "markdown",
   "id": "64708046",
   "metadata": {},
   "source": [
    "# 9.0 Cluster Analysis"
   ]
  },
  {
   "cell_type": "code",
   "execution_count": null,
   "id": "3e2bdc97",
   "metadata": {
    "ExecuteTime": {
     "end_time": "2022-08-18T17:38:32.075691Z",
     "start_time": "2022-08-18T17:38:32.075691Z"
    }
   },
   "outputs": [],
   "source": [
    "X.head()"
   ]
  },
  {
   "cell_type": "code",
   "execution_count": null,
   "id": "b4b9f3a5",
   "metadata": {
    "ExecuteTime": {
     "end_time": "2022-08-18T17:38:32.077040Z",
     "start_time": "2022-08-18T17:38:32.077040Z"
    }
   },
   "outputs": [],
   "source": [
    "df9 = X.copy()\n",
    "df9['cluster'] = labels"
   ]
  },
  {
   "cell_type": "code",
   "execution_count": null,
   "id": "fe132639",
   "metadata": {},
   "outputs": [],
   "source": []
  },
  {
   "cell_type": "markdown",
   "id": "7118d8a7",
   "metadata": {},
   "source": [
    "## 9.1 Visualization Inspectionb"
   ]
  },
  {
   "cell_type": "code",
   "execution_count": null,
   "id": "e9621fb1",
   "metadata": {
    "ExecuteTime": {
     "end_time": "2022-08-18T17:38:32.077040Z",
     "start_time": "2022-08-18T17:38:32.077040Z"
    }
   },
   "outputs": [],
   "source": [
    "sns.scatterplot(x='embedding_x', y='embedding_y', hue='cluster', data=df9, palette='deep')"
   ]
  },
  {
   "cell_type": "code",
   "execution_count": null,
   "id": "b26ec7ab",
   "metadata": {
    "ExecuteTime": {
     "end_time": "2022-08-18T17:38:32.078097Z",
     "start_time": "2022-08-18T17:38:32.078097Z"
    }
   },
   "outputs": [],
   "source": [
    " #fig = px.scatter_3d(df9, x='recency_days', y='invoice_no', z='gross_revenue', color='cluster')\n",
    " #fig.show()"
   ]
  },
  {
   "cell_type": "markdown",
   "id": "dfb00238",
   "metadata": {},
   "source": [
    "## 9.2 Visualization Silhouette Visualizer"
   ]
  },
  {
   "cell_type": "code",
   "execution_count": null,
   "id": "ac1344ee",
   "metadata": {},
   "outputs": [],
   "source": []
  },
  {
   "cell_type": "code",
   "execution_count": null,
   "id": "a580a61e",
   "metadata": {
    "ExecuteTime": {
     "end_time": "2022-08-18T17:38:32.079043Z",
     "start_time": "2022-08-18T17:38:32.079043Z"
    }
   },
   "outputs": [],
   "source": [
    "visualizer = SilhouetteVisualizer(kmeans, colors='yellowbrick')\n",
    "visualizer.fit(X)\n",
    "visualizer.finalize()"
   ]
  },
  {
   "cell_type": "code",
   "execution_count": null,
   "id": "fd47503e",
   "metadata": {
    "ExecuteTime": {
     "end_time": "2022-08-18T17:38:32.080009Z",
     "start_time": "2022-08-18T17:38:32.080009Z"
    }
   },
   "outputs": [],
   "source": [
    "df_viz = df9.copy()\n",
    "#sns.pairplot(df_viz, hue='cluster')"
   ]
  },
  {
   "cell_type": "markdown",
   "id": "350ffc3d",
   "metadata": {},
   "source": [
    "## 9.3 UMAP"
   ]
  },
  {
   "cell_type": "code",
   "execution_count": null,
   "id": "37bee6e9",
   "metadata": {
    "ExecuteTime": {
     "end_time": "2022-08-18T17:38:32.082274Z",
     "start_time": "2022-08-18T17:38:32.082274Z"
    }
   },
   "outputs": [],
   "source": [
    "#reducer = umap.UMAP(random_state=42)\n",
    "#embedding = reducer.fit_transform(X)\n",
    "\n",
    "# embedding\n",
    "#df_viz['embedding_x'] = embedding[:,0]\n",
    "#df_viz['embedding_y'] = embedding[:,1]\n",
    "\n",
    "#plot UMAP\n",
    "#sns.scatterplot(x='embedding_x', y='embedding_y', \n",
    "#                hue='cluster', \n",
    "#                palette=sns.color_palette('hls', n_colors=len(df_viz['cluster'].unique())), \n",
    "#                data=df_viz)"
   ]
  },
  {
   "cell_type": "markdown",
   "id": "0e4938e7",
   "metadata": {},
   "source": [
    "## 9.4 Cluster Profile"
   ]
  },
  {
   "cell_type": "code",
   "execution_count": null,
   "id": "b3ece357",
   "metadata": {
    "ExecuteTime": {
     "end_time": "2022-08-18T17:38:32.083592Z",
     "start_time": "2022-08-18T17:38:32.083592Z"
    }
   },
   "outputs": [],
   "source": [
    "df92 = df4[cols_selected].copy()\n",
    "df92['cluster'] = labels\n",
    "df92.head()"
   ]
  },
  {
   "cell_type": "code",
   "execution_count": null,
   "id": "0fae3f60",
   "metadata": {
    "ExecuteTime": {
     "end_time": "2022-08-18T17:38:32.084260Z",
     "start_time": "2022-08-18T17:38:32.084260Z"
    }
   },
   "outputs": [],
   "source": [
    "# number of customer\n",
    "df_cluster = df92[['customer_id', 'cluster']].groupby('cluster').count().reset_index()\n",
    "df_cluster['perc_customer'] = 100*(df_cluster['customer_id']/df_cluster['customer_id'].sum() )\n",
    "\n",
    "# average gross revenue\n",
    "df_avg_gross_revenue = df92[['gross_revenue', 'cluster']].groupby('cluster').mean().reset_index()\n",
    "df_cluster = pd.merge(df_cluster,df_avg_gross_revenue, how='inner', on='cluster')\n",
    "\n",
    "# average recency days\n",
    "df_avg_recency_days = df92[['recency_days', 'cluster']].groupby('cluster').mean().reset_index()\n",
    "df_cluster = pd.merge(df_cluster,df_avg_recency_days, how='inner', on='cluster')\n",
    "\n",
    "# Avg Qtde Product\n",
    "df_qtde_produtos = df92[['qtde_produtos','cluster']].groupby('cluster').mean().reset_index()\n",
    "df_cluster = pd.merge(df_cluster,df_qtde_produtos, how='inner', on='cluster')\n",
    "\n",
    "# frequency\n",
    "df_frequency = df92[['frequency','cluster']].groupby('cluster').mean().reset_index()\n",
    "df_cluster = pd.merge(df_cluster,df_frequency, how='inner', on='cluster')\n",
    "\n",
    "# returns\n",
    "df_qtde_returns = df92[['qtde_returns', 'cluster']].groupby('cluster').mean().reset_index()\n",
    "df_cluster = pd.merge(df_cluster, df_qtde_returns, how='inner', on='cluster')\n"
   ]
  },
  {
   "cell_type": "code",
   "execution_count": null,
   "id": "1d3f4dc2",
   "metadata": {
    "ExecuteTime": {
     "end_time": "2022-08-18T17:38:32.085400Z",
     "start_time": "2022-08-18T17:38:32.085400Z"
    }
   },
   "outputs": [],
   "source": [
    "df_cluster.sort_values(by=['gross_revenue'], ascending=False)"
   ]
  },
  {
   "cell_type": "code",
   "execution_count": null,
   "id": "9617a46a",
   "metadata": {
    "ExecuteTime": {
     "end_time": "2022-08-18T17:38:32.086140Z",
     "start_time": "2022-08-18T17:38:32.086140Z"
    }
   },
   "outputs": [],
   "source": [
    "# 2. Cluster Insiders\n",
    "# 5. Cluster More Products\n",
    "# 4. Cluster Spend Money\n",
    "# 0. Cluster Even More Products\n",
    "# 3. Cluster Less Days\n",
    "# 7. Cluster Stop Returners\n",
    "# 6. Cluster Less 1k\n",
    "# 1. Cluster More Buy"
   ]
  },
  {
   "cell_type": "code",
   "execution_count": null,
   "id": "c1fb93d4",
   "metadata": {},
   "outputs": [],
   "source": []
  },
  {
   "cell_type": "code",
   "execution_count": null,
   "id": "3e5c90e2",
   "metadata": {
    "ExecuteTime": {
     "end_time": "2022-08-18T17:38:32.087270Z",
     "start_time": "2022-08-18T17:38:32.087270Z"
    }
   },
   "outputs": [],
   "source": [
    "df9.columns"
   ]
  },
  {
   "cell_type": "markdown",
   "id": "29336315",
   "metadata": {},
   "source": [
    "Se fosse da forma como está definido, o cluster 1, referente aos insiders, que é o cluster com menor recency e maior gross_revenue, seria formado por apenas 6 pessoas.\n",
    "Além disso, este grupo de 6 pessoas tem um gasto de $182k em média, o que é muito acima de qualquer um dos outros clusters.\n",
    "Este mesmo cluster tem um tempo de retorno em compra de 7 dias, o que é muito inferior aos outros, o que é excelente para o negócio. Além de ter um total de 89 compras."
   ]
  },
  {
   "cell_type": "markdown",
   "id": "3a7c646e",
   "metadata": {},
   "source": [
    "### Cluster 01: (Candidato à Insider)\n",
    "    - Número de customers: 6 (0.14% dos customers)\n",
    "    - Recência em média: 7 dias\n",
    "    - Compras em média: 89 compras\n",
    "    - Receita em média: $182.182,00\n",
    "    \n",
    "### Cluster 02:\n",
    "\n",
    "    - Número de customers: 31 (0.71% dos customers)\n",
    "    - Recência em média: 14 dias\n",
    "    - Compras em média: 53 compras\n",
    "    - Receita em média: $40.543,52\n",
    "    \n",
    "### Cluster 03:\n",
    "\n",
    "    - Número de customers: 4.335 (99% dos customers)\n",
    "    - Recência em média: 92 dias\n",
    "    - Compras em média: 5 compras\n",
    "    - Receita em média: $1.372,57"
   ]
  },
  {
   "cell_type": "markdown",
   "id": "b0ac715c",
   "metadata": {},
   "source": [
    "# 10.0 Análise Exploratória de Dados"
   ]
  },
  {
   "cell_type": "markdown",
   "id": "37cb7320",
   "metadata": {},
   "source": [
    "## 10.1 MindMap de hipóteses"
   ]
  },
  {
   "cell_type": "markdown",
   "id": "942e7e6f",
   "metadata": {
    "ExecuteTime": {
     "end_time": "2022-08-18T16:18:44.787778Z",
     "start_time": "2022-08-18T16:18:44.760780Z"
    }
   },
   "source": [
    "1. Fenômeno\n",
    "2. Entidades (Customer, Location, FInance, Family,)\n",
    "3. Características da Entidade (Customer=Nome, Idade, Salario, Escolaridade)\n"
   ]
  },
  {
   "cell_type": "markdown",
   "id": "15d02377",
   "metadata": {},
   "source": [
    "## 10.2 Hipóteses de Negócio"
   ]
  },
  {
   "cell_type": "markdown",
   "id": "560453cf",
   "metadata": {
    "ExecuteTime": {
     "end_time": "2022-08-18T16:18:44.793767Z",
     "start_time": "2022-08-18T16:18:44.793767Z"
    }
   },
   "source": [
    "1. Afirmação\n",
    "2. Comparação entre variáveis\n",
    "3. Valor base de Comparação"
   ]
  },
  {
   "cell_type": "code",
   "execution_count": null,
   "id": "afc23c78",
   "metadata": {},
   "outputs": [],
   "source": []
  },
  {
   "cell_type": "markdown",
   "id": "9dff7a91",
   "metadata": {},
   "source": [
    "## Hipóteses Compra"
   ]
  },
  {
   "cell_type": "markdown",
   "id": "443a9114",
   "metadata": {
    "ExecuteTime": {
     "end_time": "2022-08-18T16:18:44.795953Z",
     "start_time": "2022-08-18T16:18:44.795953Z"
    }
   },
   "source": [
    "1. Os clientes do cluster insiders usam cartão de crédito em 80% das compras.\n",
    "2. **Os clientes do cluster insiders possuem um ticket médio de 10% acima do cluster More Products.**\n",
    "3. **Os clientes do cluster insiders possuem um basket size acima de 5 produtos.**\n",
    "4. **Os Clientes do cluster insiders possuem um volume de compra acima de 10% do total de compras.**\n",
    "5. **Os clientes do cluster insiders tem um número de devolução abaixo da média da base total de clientes.**"
   ]
  },
  {
   "cell_type": "markdown",
   "id": "3e2c36a4",
   "metadata": {
    "ExecuteTime": {
     "end_time": "2022-08-18T14:28:57.499197Z",
     "start_time": "2022-08-18T14:28:57.444337Z"
    }
   },
   "source": [
    "## Hipóteses Cliente"
   ]
  },
  {
   "cell_type": "markdown",
   "id": "80b87fcf",
   "metadata": {},
   "source": [
    "1. 60% dos clientes do cluster insiders possuem o estado civil solteiro.\n",
    "2. 10% dos clientes do cluster insiders estão na faixa de 24-35 anos.\n",
    "3. 40% das localidades de entrega do cluster insiders estão dentro de um raio de 50km.\n",
    "4. 5% dos clientes do cluster insiders recebem mais de 100mil dólares anualmente.\n",
    "5. 90% dos clientes do cluster insiders tem ensino superior completo."
   ]
  },
  {
   "cell_type": "markdown",
   "id": "5caab3f6",
   "metadata": {},
   "source": [
    "## Hipóteses Produto"
   ]
  },
  {
   "cell_type": "markdown",
   "id": "27bbea73",
   "metadata": {},
   "source": [
    "1. 30% de todo os produtos em pacotes grandes são comprados pelos clientes do cluster insiders\n",
    "2. A mediana dos preços dos produtos comprados pelos clientes do cluster insider é 10% maior que a mediana de todos os preços      dos produtos.\n",
    "3. O percentil do preço dos produtos comprados pelos clientes insiders.\n",
    "4. O peso médio dos produtos comprados pelos clientes do clusters insiders é maior que o peso médio dos outros clusters.\n",
    "5. A idade média dos produtos comprados pelos clientes insiders é menor do que 15 dias"
   ]
  },
  {
   "cell_type": "markdown",
   "id": "50f1c81f",
   "metadata": {},
   "source": [
    "## Perguntas de Negócio"
   ]
  },
  {
   "cell_type": "markdown",
   "id": "f74f0554",
   "metadata": {},
   "source": [
    "- Quem são as pessoas elegíveis para participar do programa de Insiders ?\n",
    "- Quantos clientes farão parte do grupo?\n",
    "- Quais as principais características desses clientes ?\n",
    "- Qual a porcentagem de contribuição do faturamento, vinda do Insiders ?\n",
    "- Qual a expectativa de faturamento desse grupo para os próximos meses ?\n",
    "- Quais as condições para uma pessoa ser elegível ao Insiders ?\n",
    "- Quais as condições para uma pessoa ser removida do Insiders ?\n",
    "- Qual a garantia que o programa Insiders é melhor que o restante da base ?\n",
    "- Quais ações o time de marketing pode realizar para aumentar o faturamento?"
   ]
  },
  {
   "cell_type": "code",
   "execution_count": null,
   "id": "654aaf5c",
   "metadata": {},
   "outputs": [],
   "source": []
  },
  {
   "cell_type": "code",
   "execution_count": null,
   "id": "7b33e19f",
   "metadata": {},
   "outputs": [],
   "source": []
  },
  {
   "cell_type": "markdown",
   "id": "84fc1bb8",
   "metadata": {},
   "source": [
    "## 10.3 Priorização das Hipóteses"
   ]
  },
  {
   "cell_type": "code",
   "execution_count": null,
   "id": "3ed7c103",
   "metadata": {},
   "outputs": [],
   "source": []
  },
  {
   "cell_type": "markdown",
   "id": "d88dff2c",
   "metadata": {},
   "source": [
    "## 10.4 Validação das Hipóteses"
   ]
  },
  {
   "cell_type": "code",
   "execution_count": null,
   "id": "8aec1c98",
   "metadata": {},
   "outputs": [],
   "source": []
  },
  {
   "cell_type": "markdown",
   "id": "3ecf6850",
   "metadata": {},
   "source": [
    "## 10.5 Quadro de Respostas"
   ]
  },
  {
   "cell_type": "code",
   "execution_count": null,
   "id": "025e3947",
   "metadata": {},
   "outputs": [],
   "source": []
  },
  {
   "cell_type": "markdown",
   "id": "6057f69b",
   "metadata": {},
   "source": [
    "# 11.0 Deploy to Production"
   ]
  },
  {
   "cell_type": "code",
   "execution_count": null,
   "id": "4db9f299",
   "metadata": {},
   "outputs": [],
   "source": []
  }
 ],
 "metadata": {
  "kernelspec": {
   "display_name": "Python 3 (ipykernel)",
   "language": "python",
   "name": "python3"
  },
  "language_info": {
   "codemirror_mode": {
    "name": "ipython",
    "version": 3
   },
   "file_extension": ".py",
   "mimetype": "text/x-python",
   "name": "python",
   "nbconvert_exporter": "python",
   "pygments_lexer": "ipython3",
   "version": "3.9.12"
  }
 },
 "nbformat": 4,
 "nbformat_minor": 5
}
