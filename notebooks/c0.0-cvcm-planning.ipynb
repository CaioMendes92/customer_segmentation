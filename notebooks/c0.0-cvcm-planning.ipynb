{
 "cells": [
  {
   "cell_type": "markdown",
   "id": "a85d8554",
   "metadata": {},
   "source": [
    "# 1. As características de um problema não-supervisionado"
   ]
  },
  {
   "cell_type": "markdown",
   "id": "b3023e9c",
   "metadata": {},
   "source": [
    "O modelo nao-supervisionado funciona se baseando em convergir a partir da similaridade de atributos entre entidades diferentes. Por exemplo, a partir de frutas com atributos semelhantes (tamanho, cor, formato, etc) o não-supervisionado agrupa. Um dos maiores desafios deste tipo de modelo é que não existe resposta errada, todo algoritmo de clusterização retornará um cluster. Outro desafio é que toda a fundamentação de machine learning se baseia no erro e, por isso, a performance dos modelos são medidos mais na prática. \n",
    "\n",
    "Outro ponto importante é que, em geral, clusterização é o meio e não o fim. A ideia é sumarizar os dados por algum motivo. Por exemplo, no caso aqui são os \"Insiders\", que é um grupo reduzido a partir de um grande grupo. "
   ]
  },
  {
   "cell_type": "markdown",
   "id": "10374eb4",
   "metadata": {},
   "source": [
    "# PA 005 - High Value Customer Identification (Insiders)"
   ]
  },
  {
   "cell_type": "markdown",
   "id": "da7bbfd3",
   "metadata": {},
   "source": [
    "## 0.0. Planejamento da Solução (IoT)"
   ]
  },
  {
   "cell_type": "markdown",
   "id": "4250c334",
   "metadata": {},
   "source": [
    "### 0.1. Input (Entrada)"
   ]
  },
  {
   "cell_type": "markdown",
   "id": "caffbacd",
   "metadata": {},
   "source": [
    "1. Problema de Negócio\n",
    "    - Selecionar os clientes mais valiosos para integrar um programa de fidelização\n",
    "    \n",
    "    \n",
    "2. Conjunto de dados\n",
    "    - Vendas de um e-commerce online durante um periodo de um ano."
   ]
  },
  {
   "cell_type": "markdown",
   "id": "8b2af477",
   "metadata": {},
   "source": [
    "### 0.2. Output (Saída)"
   ]
  },
  {
   "cell_type": "markdown",
   "id": "11ef5b79",
   "metadata": {},
   "source": [
    "1. A indicação das pessoas que farão parte do programa de Insiders\n",
    "    - Lista: client_id | is_insider\n",
    "\n",
    "\n",
    "2. Relatório com as respostas das perguntas de negócio\n",
    "    - Quem são as pessoas elegíveis para participar do programa de Insiders ?\n",
    "    - Quantos clientes farão parte do grupo?\n",
    "    - Quais as principais características desses clientes ?\n",
    "    - Qual a porcentagem de contribuição do faturamento, vinda do Insiders ?\n",
    "    - Qual a expectativa de faturamento desse grupo para os próximos meses ?\n",
    "    - Quais as condições para uma pessoa ser elegível ao Insiders ?\n",
    "    - Quais as condições para uma pessoa ser removida do Insiders ?\n",
    "    - Qual a garantia que o programa Insiders é melhor que o restante da base ?\n",
    "    - Quais ações o time de marketing pode realizar para aumentar o faturamento?"
   ]
  },
  {
   "cell_type": "markdown",
   "id": "f6945518",
   "metadata": {},
   "source": [
    "### 0.3 Tasks (Tarefas)"
   ]
  },
  {
   "cell_type": "markdown",
   "id": "82a203df",
   "metadata": {},
   "source": [
    "1. Quem são as pessoas elegíveis para participar do programa de Insiders ?\n",
    "    - O que é ser elegível? O que são clientes de maior \"valor\"?\n",
    "        - Faturamento\n",
    "            - Alto ticket médio\n",
    "            - Alto LTV (Life Time Value)\n",
    "            - Baixa Recência (baixo tempo entre duas compras)\n",
    "            - Alto Basket Size (tamanho da cesta de compras)\n",
    "            - Baixa probabilidade de churn (churn é quando a empresa para de utilizar seu serviço)\n",
    "            - Alta propensão de compra\n",
    "            \n",
    "        - Custo\n",
    "            - Baixa taxa de devolução\n",
    "            \n",
    "        - Experiência de Compra\n",
    "            - Média alta das avaliações\n",
    "            \n",
    "            \n",
    "2. Quantos clientes farão parte do grupo?\n",
    "    - Número total de clientes\n",
    "        - % do grupo Insiders\n",
    "    \n",
    "    \n",
    "3. Quais as principais características desses clientes ?\n",
    "    - Escrever características dos clientes\n",
    "        - Idade\n",
    "        - Localização \n",
    "    \n",
    "    - Características do consumo\n",
    "        - Features da clusterização\n",
    "\n",
    "\n",
    "4. Qual a porcentagem de contribuição do faturamento, vinda do Insiders ?\n",
    "    - Faturamento total do ano\n",
    "    - Faturamento do grupo insiders\n",
    "\n",
    "\n",
    "5. Qual a expectativa de faturamento desse grupo para os próximos meses ?\n",
    "    - LTV do grupo Insiders\n",
    "    - Séries temporais (ARIMA, ARMA, HoltWinter, etc)\n",
    "    \n",
    "\n",
    "6. Quais as condições para uma pessoa ser elegível ao Insiders ?\n",
    "    - Definir a periodicidade (1 mês, 3 meses, etc)\n",
    "    - A pessoa precisa ser similar ou parecido com uma pessoa do grupo\n",
    "\n",
    "\n",
    "7. Quais as condições para uma pessoa ser removida do Insiders ?\n",
    "    - Definir a periodicidade (1 mês, 3 meses, etc)\n",
    "    - A pessoa precisa ser disimilar ou não-parecido com uma pessoa do grupo\n",
    "\n",
    "\n",
    "8. Qual a garantia que o programa Insiders é melhor que o restante da base ?\n",
    "    - Teste A/B\n",
    "    - Teste A/B Bayesiano\n",
    "    - Teste de Hipóteses\n",
    "\n",
    "\n",
    "9. Quais ações o time de marketing pode realizar para aumentar o faturamento?\n",
    "    - Desconto\n",
    "    - Preferência de Compra\n",
    "    - Frete Grátis\n",
    "    - Visita a empresa\n"
   ]
  },
  {
   "cell_type": "markdown",
   "id": "153c5ce5",
   "metadata": {},
   "source": [
    "# 0.0 Imports"
   ]
  },
  {
   "cell_type": "code",
   "execution_count": 10,
   "id": "ca97acce",
   "metadata": {},
   "outputs": [
    {
     "name": "stdout",
     "output_type": "stream",
     "text": [
      "Requirement already satisfied: ipython in c:\\users\\t.mesha09\\anaconda3\\envs\\pa005-programa_de_fidelidade\\lib\\site-packages (8.4.0)\n",
      "Requirement already satisfied: decorator in c:\\users\\t.mesha09\\anaconda3\\envs\\pa005-programa_de_fidelidade\\lib\\site-packages (from ipython) (5.1.1)\n",
      "Requirement already satisfied: prompt-toolkit!=3.0.0,!=3.0.1,<3.1.0,>=2.0.0 in c:\\users\\t.mesha09\\anaconda3\\envs\\pa005-programa_de_fidelidade\\lib\\site-packages (from ipython) (3.0.20)\n",
      "Requirement already satisfied: traitlets>=5 in c:\\users\\t.mesha09\\anaconda3\\envs\\pa005-programa_de_fidelidade\\lib\\site-packages (from ipython) (5.1.1)\n",
      "Requirement already satisfied: matplotlib-inline in c:\\users\\t.mesha09\\anaconda3\\envs\\pa005-programa_de_fidelidade\\lib\\site-packages (from ipython) (0.1.2)\n",
      "Requirement already satisfied: pygments>=2.4.0 in c:\\users\\t.mesha09\\anaconda3\\envs\\pa005-programa_de_fidelidade\\lib\\site-packages (from ipython) (2.11.2)\n",
      "Requirement already satisfied: stack-data in c:\\users\\t.mesha09\\anaconda3\\envs\\pa005-programa_de_fidelidade\\lib\\site-packages (from ipython) (0.2.0)\n",
      "Requirement already satisfied: jedi>=0.16 in c:\\users\\t.mesha09\\anaconda3\\envs\\pa005-programa_de_fidelidade\\lib\\site-packages (from ipython) (0.18.1)\n",
      "Requirement already satisfied: colorama in c:\\users\\t.mesha09\\anaconda3\\envs\\pa005-programa_de_fidelidade\\lib\\site-packages (from ipython) (0.4.5)\n",
      "Requirement already satisfied: backcall in c:\\users\\t.mesha09\\anaconda3\\envs\\pa005-programa_de_fidelidade\\lib\\site-packages (from ipython) (0.2.0)\n",
      "Requirement already satisfied: setuptools>=18.5 in c:\\users\\t.mesha09\\anaconda3\\envs\\pa005-programa_de_fidelidade\\lib\\site-packages (from ipython) (61.2.0)\n",
      "Requirement already satisfied: pickleshare in c:\\users\\t.mesha09\\anaconda3\\envs\\pa005-programa_de_fidelidade\\lib\\site-packages (from ipython) (0.7.5)\n",
      "Requirement already satisfied: parso<0.9.0,>=0.8.0 in c:\\users\\t.mesha09\\anaconda3\\envs\\pa005-programa_de_fidelidade\\lib\\site-packages (from jedi>=0.16->ipython) (0.8.3)\n",
      "Requirement already satisfied: wcwidth in c:\\users\\t.mesha09\\anaconda3\\envs\\pa005-programa_de_fidelidade\\lib\\site-packages (from prompt-toolkit!=3.0.0,!=3.0.1,<3.1.0,>=2.0.0->ipython) (0.2.5)\n",
      "Requirement already satisfied: executing in c:\\users\\t.mesha09\\anaconda3\\envs\\pa005-programa_de_fidelidade\\lib\\site-packages (from stack-data->ipython) (0.8.3)\n",
      "Requirement already satisfied: asttokens in c:\\users\\t.mesha09\\anaconda3\\envs\\pa005-programa_de_fidelidade\\lib\\site-packages (from stack-data->ipython) (2.0.5)\n",
      "Requirement already satisfied: pure-eval in c:\\users\\t.mesha09\\anaconda3\\envs\\pa005-programa_de_fidelidade\\lib\\site-packages (from stack-data->ipython) (0.2.2)\n",
      "Requirement already satisfied: six in c:\\users\\t.mesha09\\anaconda3\\envs\\pa005-programa_de_fidelidade\\lib\\site-packages (from asttokens->stack-data->ipython) (1.16.0)\n"
     ]
    }
   ],
   "source": [
    "!pip install ipython"
   ]
  },
  {
   "cell_type": "code",
   "execution_count": 13,
   "id": "75252592",
   "metadata": {},
   "outputs": [],
   "source": [
    "import pandas  as pd\n",
    "import numpy   as np\n",
    "import seaborn as sns\n",
    "\n",
    "from matplotlib      import pyplot as plt\n",
    "from IPython.display import HTML"
   ]
  },
  {
   "cell_type": "markdown",
   "id": "c72c9874",
   "metadata": {},
   "source": [
    "## 0.1 Helper Functions"
   ]
  },
  {
   "cell_type": "code",
   "execution_count": 15,
   "id": "22b90c4e",
   "metadata": {},
   "outputs": [
    {
     "name": "stdout",
     "output_type": "stream",
     "text": [
      "%pylab is deprecated, use %matplotlib inline and import the required libraries.\n",
      "Populating the interactive namespace from numpy and matplotlib\n"
     ]
    },
    {
     "data": {
      "text/html": [
       "<style>.container {width: 100% !important;}</style>"
      ],
      "text/plain": [
       "<IPython.core.display.HTML object>"
      ]
     },
     "metadata": {},
     "output_type": "display_data"
    }
   ],
   "source": [
    "def jupyter_settings():\n",
    "    %matplotlib inline\n",
    "    %pylab inline\n",
    "    \n",
    "    plt.style.use('ggplot')\n",
    "    plt.rcParams['figure.figsize'] = [24, 9]\n",
    "    plt.rcParams['font.size'] = 24\n",
    "    \n",
    "    display(HTML('<style>.container {width: 100% !important;}</style>'))\n",
    "    pd.options.display.max_columns = None\n",
    "    pd.options.display.max_rows = None\n",
    "    pd.set_option('display.expand_frame_repr', False)\n",
    "    \n",
    "    sns.set()\n",
    "    \n",
    "jupyter_settings()"
   ]
  },
  {
   "cell_type": "markdown",
   "id": "b0b29061",
   "metadata": {},
   "source": [
    "## 0.2 Load Dataset"
   ]
  },
  {
   "cell_type": "code",
   "execution_count": null,
   "id": "7ba1097a",
   "metadata": {},
   "outputs": [],
   "source": []
  },
  {
   "cell_type": "markdown",
   "id": "b7cddf95",
   "metadata": {},
   "source": [
    "# 1.0 Descrição dos dados"
   ]
  },
  {
   "cell_type": "code",
   "execution_count": null,
   "id": "91ebe1be",
   "metadata": {},
   "outputs": [],
   "source": []
  },
  {
   "cell_type": "code",
   "execution_count": null,
   "id": "18506b1b",
   "metadata": {},
   "outputs": [],
   "source": []
  },
  {
   "cell_type": "markdown",
   "id": "68caaa97",
   "metadata": {},
   "source": [
    "# 2.0 Feature Engineering"
   ]
  },
  {
   "cell_type": "code",
   "execution_count": null,
   "id": "8f1c428a",
   "metadata": {},
   "outputs": [],
   "source": []
  },
  {
   "cell_type": "markdown",
   "id": "ce592333",
   "metadata": {},
   "source": [
    "# 3.0 Data Filtering"
   ]
  },
  {
   "cell_type": "code",
   "execution_count": null,
   "id": "b63c66f5",
   "metadata": {},
   "outputs": [],
   "source": []
  },
  {
   "cell_type": "markdown",
   "id": "28bd1ec1",
   "metadata": {},
   "source": [
    "# 4.0 EDA - Exploratory Data Analysis"
   ]
  },
  {
   "cell_type": "code",
   "execution_count": null,
   "id": "6d339591",
   "metadata": {},
   "outputs": [],
   "source": []
  },
  {
   "cell_type": "markdown",
   "id": "1aa186b9",
   "metadata": {},
   "source": [
    "# 5.0 Data Preparation"
   ]
  },
  {
   "cell_type": "code",
   "execution_count": null,
   "id": "384401c5",
   "metadata": {},
   "outputs": [],
   "source": []
  },
  {
   "cell_type": "markdown",
   "id": "2d0e48b9",
   "metadata": {},
   "source": [
    "# 6.0 Feature Selection"
   ]
  },
  {
   "cell_type": "code",
   "execution_count": null,
   "id": "676ad0a2",
   "metadata": {},
   "outputs": [],
   "source": []
  },
  {
   "cell_type": "markdown",
   "id": "c3a7d94c",
   "metadata": {},
   "source": [
    "# 7.0 Hyperparameter Fine-Tuning"
   ]
  },
  {
   "cell_type": "code",
   "execution_count": null,
   "id": "3550c74f",
   "metadata": {},
   "outputs": [],
   "source": []
  },
  {
   "cell_type": "markdown",
   "id": "75684f68",
   "metadata": {},
   "source": [
    "# 8.0 Model Training"
   ]
  },
  {
   "cell_type": "code",
   "execution_count": null,
   "id": "56332a7e",
   "metadata": {},
   "outputs": [],
   "source": []
  },
  {
   "cell_type": "markdown",
   "id": "64708046",
   "metadata": {},
   "source": [
    "# 9.0 Cluster Analysis"
   ]
  },
  {
   "cell_type": "code",
   "execution_count": null,
   "id": "c46bbc08",
   "metadata": {},
   "outputs": [],
   "source": []
  },
  {
   "cell_type": "markdown",
   "id": "6057f69b",
   "metadata": {},
   "source": [
    "# 10.0 Deploy to Production"
   ]
  },
  {
   "cell_type": "code",
   "execution_count": null,
   "id": "4db9f299",
   "metadata": {},
   "outputs": [],
   "source": []
  }
 ],
 "metadata": {
  "kernelspec": {
   "display_name": "Python 3 (ipykernel)",
   "language": "python",
   "name": "python3"
  },
  "language_info": {
   "codemirror_mode": {
    "name": "ipython",
    "version": 3
   },
   "file_extension": ".py",
   "mimetype": "text/x-python",
   "name": "python",
   "nbconvert_exporter": "python",
   "pygments_lexer": "ipython3",
   "version": "3.9.12"
  }
 },
 "nbformat": 4,
 "nbformat_minor": 5
}
